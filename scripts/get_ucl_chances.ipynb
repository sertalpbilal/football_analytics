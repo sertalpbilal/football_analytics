{
 "metadata": {
  "language_info": {
   "codemirror_mode": {
    "name": "ipython",
    "version": 3
   },
   "file_extension": ".py",
   "mimetype": "text/x-python",
   "name": "python",
   "nbconvert_exporter": "python",
   "pygments_lexer": "ipython3",
   "version": "3.7.1-final"
  },
  "orig_nbformat": 2,
  "kernelspec": {
   "name": "python371jvsc74a57bd0cbc1630f6ac27d00c9f4ea5ff59d07a3d2920d2fb3e683b05679c37215caa53f",
   "display_name": "Python 3.7.1 64-bit"
  }
 },
 "nbformat": 4,
 "nbformat_minor": 2,
 "cells": [
  {
   "cell_type": "code",
   "execution_count": 1,
   "metadata": {},
   "outputs": [],
   "source": [
    "import requests"
   ]
  },
  {
   "cell_type": "code",
   "execution_count": 2,
   "metadata": {},
   "outputs": [],
   "source": [
    "url = \"https://projects.fivethirtyeight.com/soccer-predictions/forecasts/2020_premier-league_forecast.json\"\n",
    "r = requests.get(url)\n",
    "pl_data = r.json()"
   ]
  },
  {
   "cell_type": "code",
   "execution_count": 3,
   "metadata": {},
   "outputs": [
    {
     "output_type": "execute_result",
     "data": {
      "text/plain": [
       "dict_keys(['last_updated', 'forecasts'])"
      ]
     },
     "metadata": {},
     "execution_count": 3
    }
   ],
   "source": [
    "pl_data.keys()"
   ]
  },
  {
   "cell_type": "code",
   "execution_count": 4,
   "metadata": {},
   "outputs": [],
   "source": [
    "f = pl_data['forecasts']"
   ]
  },
  {
   "cell_type": "code",
   "execution_count": null,
   "metadata": {},
   "outputs": [],
   "source": []
  },
  {
   "cell_type": "code",
   "execution_count": 8,
   "metadata": {},
   "outputs": [
    {
     "output_type": "stream",
     "name": "stdout",
     "text": [
      "2021-04-04T20:26:12.126Z\n"
     ]
    },
    {
     "output_type": "execute_result",
     "data": {
      "text/plain": [
       "[{'team': 'Southampton', 'make_champs': 0.0},\n",
       " {'team': 'Manchester United', 'make_champs': 0.9722},\n",
       " {'team': 'Brighton and Hove Albion', 'make_champs': 0.0},\n",
       " {'team': 'Wolverhampton', 'make_champs': 0.0},\n",
       " {'team': 'Tottenham Hotspur', 'make_champs': 0.1692},\n",
       " {'team': 'Aston Villa', 'make_champs': 0.0047},\n",
       " {'team': 'Leeds United', 'make_champs': 0.0},\n",
       " {'team': 'West Ham United', 'make_champs': 0.2095},\n",
       " {'team': 'Manchester City', 'make_champs': 1.0},\n",
       " {'team': 'Arsenal', 'make_champs': 0.00555},\n",
       " {'team': 'Crystal Palace', 'make_champs': 0.0},\n",
       " {'team': 'West Bromwich Albion', 'make_champs': 0.0},\n",
       " {'team': 'Fulham', 'make_champs': 0.0},\n",
       " {'team': 'Sheffield United', 'make_champs': 0.0},\n",
       " {'team': 'Liverpool', 'make_champs': 0.5698},\n",
       " {'team': 'Newcastle', 'make_champs': 0.0},\n",
       " {'team': 'Everton', 'make_champs': 0.0336},\n",
       " {'team': 'Burnley', 'make_champs': 0.0},\n",
       " {'team': 'Chelsea', 'make_champs': 0.3811},\n",
       " {'team': 'Leicester City', 'make_champs': 0.65435}]"
      ]
     },
     "metadata": {},
     "execution_count": 8
    }
   ],
   "source": [
    "pl_data = []\n",
    "fval = 0\n",
    "print(f[fval]['last_updated'])\n",
    "for t in f[fval]['teams']:\n",
    "    pl_data.append({'team': t['name'], 'make_champs': t['make_champs']})\n",
    "pl_data"
   ]
  },
  {
   "cell_type": "code",
   "execution_count": 7,
   "metadata": {},
   "outputs": [
    {
     "output_type": "stream",
     "name": "stdout",
     "text": [
      "2021-03-21T21:25:54.237Z\n"
     ]
    },
    {
     "output_type": "execute_result",
     "data": {
      "text/plain": [
       "[{'team': 'Southampton', 'make_champs': 0.0},\n",
       " {'team': 'Manchester United', 'make_champs': 0.9394},\n",
       " {'team': 'Brighton and Hove Albion', 'make_champs': 0.0},\n",
       " {'team': 'Wolverhampton', 'make_champs': 0.0},\n",
       " {'team': 'Tottenham Hotspur', 'make_champs': 0.21785},\n",
       " {'team': 'Aston Villa', 'make_champs': 0.0025},\n",
       " {'team': 'Leeds United', 'make_champs': 5e-05},\n",
       " {'team': 'West Ham United', 'make_champs': 0.17005},\n",
       " {'team': 'Manchester City', 'make_champs': 1.0},\n",
       " {'team': 'Arsenal', 'make_champs': 0.0184},\n",
       " {'team': 'Crystal Palace', 'make_champs': 0.0},\n",
       " {'team': 'West Bromwich Albion', 'make_champs': 0.0},\n",
       " {'team': 'Fulham', 'make_champs': 0.0},\n",
       " {'team': 'Sheffield United', 'make_champs': 0.0},\n",
       " {'team': 'Liverpool', 'make_champs': 0.2676},\n",
       " {'team': 'Newcastle', 'make_champs': 0.0},\n",
       " {'team': 'Everton', 'make_champs': 0.02355},\n",
       " {'team': 'Burnley', 'make_champs': 0.0},\n",
       " {'team': 'Chelsea', 'make_champs': 0.65575},\n",
       " {'team': 'Leicester City', 'make_champs': 0.70485}]"
      ]
     },
     "metadata": {},
     "execution_count": 7
    }
   ],
   "source": [
    "pl_data = []\n",
    "fval = 1\n",
    "print(f[fval]['last_updated'])\n",
    "for t in f[fval]['teams']:\n",
    "    pl_data.append({'team': t['name'], 'make_champs': t['make_champs']})\n",
    "pl_data"
   ]
  },
  {
   "cell_type": "code",
   "execution_count": null,
   "metadata": {},
   "outputs": [],
   "source": []
  }
 ]
}
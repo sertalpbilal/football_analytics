{
 "metadata": {
  "language_info": {
   "codemirror_mode": {
    "name": "ipython",
    "version": 3
   },
   "file_extension": ".py",
   "mimetype": "text/x-python",
   "name": "python",
   "nbconvert_exporter": "python",
   "pygments_lexer": "ipython3",
   "version": "3.7.1-final"
  },
  "orig_nbformat": 2,
  "kernelspec": {
   "name": "python3",
   "display_name": "Python 3.7.1 64-bit",
   "metadata": {
    "interpreter": {
     "hash": "cbc1630f6ac27d00c9f4ea5ff59d07a3d2920d2fb3e683b05679c37215caa53f"
    }
   }
  }
 },
 "nbformat": 4,
 "nbformat_minor": 2,
 "cells": [
  {
   "cell_type": "code",
   "execution_count": 1,
   "metadata": {},
   "outputs": [],
   "source": [
    "import sasoptpy as so\n",
    "import pandas as pd\n",
    "import os\n",
    "from math import sqrt\n",
    "import random"
   ]
  },
  {
   "cell_type": "code",
   "execution_count": 2,
   "metadata": {},
   "outputs": [],
   "source": [
    "w = 16\n",
    "l = 12\n",
    "df = pd.read_csv('../data/xt_pre_data.csv')\n",
    "df['xbin'] = pd.cut(df.start_x, w, labels=False)\n",
    "df['ybin'] = pd.cut(df.start_y, l, labels=False)\n",
    "df['xbin_to'] = pd.cut(df.end_x, w, labels=False)\n",
    "df['ybin_to'] = pd.cut(df.end_y, l, labels=False)"
   ]
  },
  {
   "cell_type": "code",
   "execution_count": 3,
   "metadata": {},
   "outputs": [],
   "source": [
    "def get_matrix(values, xbins, ybins):\n",
    "    indices = [(x,y) for x in range(xbins) for y in range(ybins)]\n",
    "    x_cuts = values['xbin']\n",
    "    y_cuts = values['ybin']\n",
    "    bins = values.groupby([x_cuts, y_cuts]).size()\n",
    "    return bins.reindex(indices, fill_value=0).unstack().fillna(0)\n",
    "\n",
    "def get_transition_matrix(values, xbins, ybins):\n",
    "    indices = [(x1,y1,x2,y2) for x1 in range(xbins) for y1 in range(ybins) for x2 in range(xbins) for y2 in range(ybins)]\n",
    "    x_from = values['xbin']\n",
    "    y_from = values['ybin']\n",
    "    x_to = values['xbin_to']\n",
    "    y_to = values['ybin_to']\n",
    "    valid_occurences = values[values['result_name'] == 'success'].copy()\n",
    "    occurence = values.groupby([x_from, y_from, x_to, y_to]).size()\n",
    "    successful = valid_occurences.groupby([x_from, y_from, x_to, y_to]).size()\n",
    "    occurence_2d = occurence.reindex(indices).unstack([2,3], fill_value=0).fillna(0)\n",
    "    successful_2d = successful.reindex(indices).unstack([2,3], fill_value=0).fillna(0)\n",
    "    # Only successful attempts?\n",
    "    return successful_2d.div(occurence_2d.sum(axis=1), axis=0)"
   ]
  },
  {
   "cell_type": "code",
   "execution_count": 4,
   "metadata": {},
   "outputs": [],
   "source": [
    "shots_df = get_matrix(df[df['type_name']=='shot'], w, l)\n",
    "goals_df = get_matrix(df[(df['type_name']=='shot') & (df['result_name'] == 'success')], w, l)\n",
    "moves_df = get_matrix(df[df['type_name'].isin(['dribble', 'pass', 'cross'])], w, l)\n",
    "total_df = moves_df + shots_df\n",
    "\n",
    "moves = moves_df / total_df\n",
    "shots = shots_df / total_df\n",
    "scores = (goals_df / shots_df).fillna(0)\n",
    "T = get_transition_matrix(df[df['type_name'].isin(['dribble', 'pass', 'cross'])], w, l)"
   ]
  },
  {
   "cell_type": "code",
   "execution_count": 5,
   "metadata": {},
   "outputs": [],
   "source": [
    "def base_model():\n",
    "    model = so.Model(name='xThreatModel', session=None)\n",
    "    indices = [(x,y) for x in range(w) for y in range(l)]\n",
    "    xT = model.add_variables(indices, name='xT')\n",
    "    model.add_constraints(\n",
    "        (xT[x,y] == shots.loc[x,y] * scores.loc[x,y] + moves.loc[x,y] * so.expr_sum(T.loc[(x,y),(z,w)] * xT[z,w] for (z,w) in indices) for (x,y) in indices), name='relation')\n",
    "    model.set_objective(0, name='zero', sense='N')\n",
    "    model.export_mps(filename='export.mps')\n",
    "    command = 'cbc export.mps solve solu solution.txt'\n",
    "    # !{command}\n",
    "    os.system(command)\n",
    "    for v in model.get_variables():\n",
    "        v.set_value(0)\n",
    "    with open('solution.txt', 'r') as f:\n",
    "        for line in f:\n",
    "            if 'objective value' in line:\n",
    "                continue\n",
    "            words = line.split()\n",
    "            model.get_variable(words[1]).set_value(float(words[2]))\n",
    "    return model"
   ]
  },
  {
   "cell_type": "code",
   "execution_count": 6,
   "metadata": {},
   "outputs": [
    {
     "output_type": "stream",
     "name": "stdout",
     "text": [
      "NOTE: Initialized model xThreatModel.\n"
     ]
    }
   ],
   "source": [
    "m1 = base_model()"
   ]
  },
  {
   "cell_type": "code",
   "execution_count": 7,
   "metadata": {},
   "outputs": [
    {
     "output_type": "execute_result",
     "data": {
      "text/plain": [
       "                xT\n",
       "(0, 0)    0.001014\n",
       "(0, 1)    0.001490\n",
       "(0, 2)    0.001763\n",
       "(0, 3)    0.002306\n",
       "(0, 4)    0.002635\n",
       "...            ...\n",
       "(15, 7)   0.098388\n",
       "(15, 8)   0.029122\n",
       "(15, 9)   0.026838\n",
       "(15, 10)  0.025522\n",
       "(15, 11)  0.023181\n",
       "\n",
       "[192 rows x 1 columns]"
      ],
      "text/html": "<div>\n<style scoped>\n    .dataframe tbody tr th:only-of-type {\n        vertical-align: middle;\n    }\n\n    .dataframe tbody tr th {\n        vertical-align: top;\n    }\n\n    .dataframe thead th {\n        text-align: right;\n    }\n</style>\n<table border=\"1\" class=\"dataframe\">\n  <thead>\n    <tr style=\"text-align: right;\">\n      <th></th>\n      <th>xT</th>\n    </tr>\n  </thead>\n  <tbody>\n    <tr>\n      <th>(0, 0)</th>\n      <td>0.001014</td>\n    </tr>\n    <tr>\n      <th>(0, 1)</th>\n      <td>0.001490</td>\n    </tr>\n    <tr>\n      <th>(0, 2)</th>\n      <td>0.001763</td>\n    </tr>\n    <tr>\n      <th>(0, 3)</th>\n      <td>0.002306</td>\n    </tr>\n    <tr>\n      <th>(0, 4)</th>\n      <td>0.002635</td>\n    </tr>\n    <tr>\n      <th>...</th>\n      <td>...</td>\n    </tr>\n    <tr>\n      <th>(15, 7)</th>\n      <td>0.098388</td>\n    </tr>\n    <tr>\n      <th>(15, 8)</th>\n      <td>0.029122</td>\n    </tr>\n    <tr>\n      <th>(15, 9)</th>\n      <td>0.026838</td>\n    </tr>\n    <tr>\n      <th>(15, 10)</th>\n      <td>0.025522</td>\n    </tr>\n    <tr>\n      <th>(15, 11)</th>\n      <td>0.023181</td>\n    </tr>\n  </tbody>\n</table>\n<p>192 rows × 1 columns</p>\n</div>"
     },
     "metadata": {},
     "execution_count": 7
    }
   ],
   "source": [
    "xT1 = m1.get_variable('xT')\n",
    "so.get_solution_table(xT1)"
   ]
  },
  {
   "cell_type": "code",
   "execution_count": 8,
   "metadata": {},
   "outputs": [
    {
     "output_type": "stream",
     "name": "stdout",
     "text": [
      "0.014957486 0.020520949\n"
     ]
    }
   ],
   "source": [
    "print(xT1[11,0].get_value(),xT1[11,7].get_value())"
   ]
  },
  {
   "cell_type": "code",
   "execution_count": 9,
   "metadata": {},
   "outputs": [
    {
     "output_type": "stream",
     "name": "stdout",
     "text": [
      "0.020823058 0.019536792\n"
     ]
    }
   ],
   "source": [
    "print(xT1[11,3].get_value(),xT1[11,4].get_value())"
   ]
  },
  {
   "cell_type": "code",
   "execution_count": 10,
   "metadata": {},
   "outputs": [],
   "source": [
    "def symmetric_model():\n",
    "    model = so.Model(name='xThreatModel_sym', session=None)\n",
    "    indices = [(x,y) for x in range(w) for y in range(l)]\n",
    "    xT = model.add_variables(indices, name='xT')\n",
    "    err = model.add_variables(indices, name='error')\n",
    "    err_abs = model.add_variables(indices, name='error_abs', lb=0)\n",
    "    model.add_constraints(\n",
    "        (xT[x,y] + err[x,y] == shots.loc[x,y] * scores.loc[x,y] + moves.loc[x,y] * so.expr_sum(T.loc[(x,y),(z,w)] * xT[z,w] for (z,w) in indices) for (x,y) in indices), name='relation')\n",
    "    model.add_constraints(\n",
    "        (err_abs[x,y] >= err[x,y] for (x,y) in indices), name='abs_values1')\n",
    "    model.add_constraints(\n",
    "        (err_abs[x,y] >= -err[x,y] for (x,y) in indices), name='abs_values2')\n",
    "    model.add_constraints(\n",
    "        (xT[x,y] == xT[x, l-y-1] for (x,y) in indices), name='symm_con')\n",
    "    sum_err_abs = so.expr_sum(err_abs[x,y] for (x,y) in indices)\n",
    "    model.set_objective(sum_err_abs, name='total_error', sense='N')\n",
    "    model.export_mps(filename='export.mps')\n",
    "    command = 'cbc export.mps solve solu solution.txt'\n",
    "    !{command}\n",
    "    # os.system(command)\n",
    "    for v in model.get_variables():\n",
    "        v.set_value(0)\n",
    "    with open('solution.txt', 'r') as f:\n",
    "        for line in f:\n",
    "            if 'objective value' in line:\n",
    "                continue\n",
    "            words = line.split()\n",
    "            model.get_variable(words[1]).set_value(float(words[2]))\n",
    "    return model"
   ]
  },
  {
   "cell_type": "code",
   "execution_count": 11,
   "metadata": {},
   "outputs": [
    {
     "output_type": "stream",
     "name": "stdout",
     "text": [
      "NOTE: Initialized model xThreatModel_sym.\n",
      "Welcome to the CBC MILP Solver \n",
      "Version: devel \n",
      "Build Date: Nov 25 2020 \n",
      "\n",
      "command line - cbc export.mps solve solu solution.txt (default strategy 1)\n",
      "At line 1 NAME     xThreatModel_sym\n",
      "At line 2 ROWS\n",
      "At line 772 COLUMNS\n",
      "At line 9534 RHS\n",
      "At line 9550 RANGES\n",
      "At line 9551 BOUNDS\n",
      "At line 9936 ENDATA\n",
      "Problem xThreatModel_sym has 768 rows, 576 columns and 16840 elements\n",
      "Coin0008I xThreatModel_sym read with 0 errors\n",
      "Presolve 575 (-193) rows, 479 (-97) columns and 11215 (-5625) elements\n",
      "Perturbing problem by 0.001% of 67.409968 - largest nonzero change 0.00042036491 ( 0.00062359458%) - largest zero change 0\n",
      "Optimal - objective value 0.1442393\n",
      "After Postsolve, objective 0.1442393, infeasibilities - dual 0 (0), primal 0 (0)\n",
      "Optimal objective 0.1442392957 - 568 iterations time 0.032, Presolve 0.00\n",
      "Total time (CPU seconds):       0.05   (Wallclock seconds):       0.05\n",
      "\n"
     ]
    }
   ],
   "source": [
    "m2 = symmetric_model()"
   ]
  },
  {
   "cell_type": "code",
   "execution_count": 12,
   "metadata": {},
   "outputs": [
    {
     "output_type": "execute_result",
     "data": {
      "text/plain": [
       "                xT\n",
       "(0, 0)    0.000854\n",
       "(0, 1)    0.001309\n",
       "(0, 2)    0.001550\n",
       "(0, 3)    0.001873\n",
       "(0, 4)    0.002278\n",
       "...            ...\n",
       "(15, 7)   0.094493\n",
       "(15, 8)   0.027544\n",
       "(15, 9)   0.028804\n",
       "(15, 10)  0.024240\n",
       "(15, 11)  0.021948\n",
       "\n",
       "[192 rows x 1 columns]"
      ],
      "text/html": "<div>\n<style scoped>\n    .dataframe tbody tr th:only-of-type {\n        vertical-align: middle;\n    }\n\n    .dataframe tbody tr th {\n        vertical-align: top;\n    }\n\n    .dataframe thead th {\n        text-align: right;\n    }\n</style>\n<table border=\"1\" class=\"dataframe\">\n  <thead>\n    <tr style=\"text-align: right;\">\n      <th></th>\n      <th>xT</th>\n    </tr>\n  </thead>\n  <tbody>\n    <tr>\n      <th>(0, 0)</th>\n      <td>0.000854</td>\n    </tr>\n    <tr>\n      <th>(0, 1)</th>\n      <td>0.001309</td>\n    </tr>\n    <tr>\n      <th>(0, 2)</th>\n      <td>0.001550</td>\n    </tr>\n    <tr>\n      <th>(0, 3)</th>\n      <td>0.001873</td>\n    </tr>\n    <tr>\n      <th>(0, 4)</th>\n      <td>0.002278</td>\n    </tr>\n    <tr>\n      <th>...</th>\n      <td>...</td>\n    </tr>\n    <tr>\n      <th>(15, 7)</th>\n      <td>0.094493</td>\n    </tr>\n    <tr>\n      <th>(15, 8)</th>\n      <td>0.027544</td>\n    </tr>\n    <tr>\n      <th>(15, 9)</th>\n      <td>0.028804</td>\n    </tr>\n    <tr>\n      <th>(15, 10)</th>\n      <td>0.024240</td>\n    </tr>\n    <tr>\n      <th>(15, 11)</th>\n      <td>0.021948</td>\n    </tr>\n  </tbody>\n</table>\n<p>192 rows × 1 columns</p>\n</div>"
     },
     "metadata": {},
     "execution_count": 12
    }
   ],
   "source": [
    "xT2 = m2.get_variable('xT')\n",
    "e = m2.get_variable('error')\n",
    "so.get_solution_table(xT2)"
   ]
  },
  {
   "cell_type": "code",
   "execution_count": 13,
   "metadata": {},
   "outputs": [
    {
     "output_type": "stream",
     "name": "stdout",
     "text": [
      "0.013471589 0.017841606\n"
     ]
    }
   ],
   "source": [
    "print(xT2[11,0].get_value(),xT2[11,7].get_value())"
   ]
  },
  {
   "cell_type": "code",
   "execution_count": 14,
   "metadata": {},
   "outputs": [
    {
     "output_type": "stream",
     "name": "stdout",
     "text": [
      "0.017979213 0.017841606\n"
     ]
    }
   ],
   "source": [
    "print(xT2[11,3].get_value(),xT2[11,4].get_value())"
   ]
  },
  {
   "cell_type": "code",
   "execution_count": 15,
   "metadata": {},
   "outputs": [],
   "source": [
    "def dist(c1, c2):\n",
    "    return sqrt((c1-(w-1))**2 + (c2-(l-1)/2)**2)\n",
    "\n",
    "def sym_incremental_model():\n",
    "    model = so.Model(name='xThreatModel_sym_inc', session=None)\n",
    "    indices = [(x,y) for x in range(w) for y in range(l)]\n",
    "    xT = model.add_variables(indices, name='xT')\n",
    "    err = model.add_variables(indices, name='error')\n",
    "    err_abs = model.add_variables(indices, name='error_abs', lb=0)\n",
    "    model.add_constraints(\n",
    "        (xT[x,y] + err[x,y] == shots.loc[x,y] * scores.loc[x,y] + moves.loc[x,y] * so.expr_sum(T.loc[(x,y),(z,w)] * xT[z,w] for (z,w) in indices) for (x,y) in indices), name='relation')\n",
    "    model.add_constraints(\n",
    "        (err_abs[x,y] >= err[x,y] for (x,y) in indices), name='abs_values1')\n",
    "    model.add_constraints(\n",
    "        (err_abs[x,y] >= -err[x,y] for (x,y) in indices), name='abs_values2')\n",
    "    model.add_constraints(\n",
    "        (xT[x,y] == xT[x, l-y-1] for (x,y) in indices), name='symm_con')\n",
    "    model.add_constraints(\n",
    "        (xT[x,y] >= xT[z, w] for (x,y) in indices for (z,w) in indices if dist(x,y) < dist(z,w) and x==z), name='same_row')\n",
    "    model.add_constraints(\n",
    "        (xT[x,y] >= xT[z, w] for (x,y) in indices for (z,w) in indices if dist(x,y) < dist(z,w) and y==w), name='same_col')\n",
    "    sum_err_abs = so.expr_sum(err_abs[x,y] for (x,y) in indices)\n",
    "    model.set_objective(sum_err_abs, name='total_error', sense='N')\n",
    "    model.export_mps(filename='export.mps')\n",
    "    command = 'cbc export.mps presolve off solve solu solution.txt'\n",
    "    !{command}\n",
    "    #os.system(command)\n",
    "    for v in model.get_variables():\n",
    "        v.set_value(0)\n",
    "    with open('solution.txt', 'r') as f:\n",
    "        for line in f:\n",
    "            if 'objective value' in line:\n",
    "                continue\n",
    "            words = line.split()\n",
    "            model.get_variable(words[1]).set_value(float(words[2]))\n",
    "    return model"
   ]
  },
  {
   "cell_type": "code",
   "execution_count": 16,
   "metadata": {},
   "outputs": [
    {
     "output_type": "stream",
     "name": "stdout",
     "text": [
      "NOTE: Initialized model xThreatModel_sym_inc.\n",
      "Welcome to the CBC MILP Solver \n",
      "Version: devel \n",
      "Build Date: Nov 25 2020 \n",
      "\n",
      "command line - cbc export.mps presolve off solve solu solution.txt (default strategy 1)\n",
      "At line 1 NAME     xThreatModel_sym_inc\n",
      "At line 2 ROWS\n",
      "At line 3172 COLUMNS\n",
      "At line 14324 RHS\n",
      "At line 14340 RANGES\n",
      "At line 14341 BOUNDS\n",
      "At line 14726 ENDATA\n",
      "Problem xThreatModel_sym_inc has 3168 rows, 576 columns and 21640 elements\n",
      "Coin0008I xThreatModel_sym_inc read with 0 errors\n",
      "Option for presolve changed from on to off\n",
      "Perturbing problem by 0.001% of 68.680282 - largest nonzero change 0.00042734516 ( 0.00062222395%) - largest zero change 0\n",
      "Optimal - objective value 0.15468368\n",
      "Optimal objective 0.1546836793 - 1463 iterations time 0.182\n",
      "Total time (CPU seconds):       0.21   (Wallclock seconds):       0.21\n",
      "\n"
     ]
    }
   ],
   "source": [
    "m3 = sym_incremental_model()"
   ]
  },
  {
   "cell_type": "code",
   "execution_count": 17,
   "metadata": {},
   "outputs": [
    {
     "output_type": "stream",
     "name": "stdout",
     "text": [
      "0 0.013572736\n1 0.015088821\n2 0.016415626\n3 0.01798555\n4 0.01798555\n5 0.018052086\n6 0.018052086\n7 0.01798555\n8 0.01798555\n9 0.016415626\n10 0.015088821\n11 0.013572736\n"
     ]
    }
   ],
   "source": [
    "xT3 = m3.get_variable('xT')\n",
    "e3 = m3.get_variable('error')\n",
    "so.get_solution_table(xT3)\n",
    "for y in range(l):\n",
    "    print(y, xT3[11,y].get_value())"
   ]
  },
  {
   "cell_type": "code",
   "execution_count": 18,
   "metadata": {},
   "outputs": [
    {
     "output_type": "stream",
     "name": "stdout",
     "text": [
      "                xT        xT        xT\n(0, 0)    0.001014  0.000854  0.000859\n(0, 1)    0.001490  0.001309  0.001316\n(0, 2)    0.001763  0.001550  0.001558\n(0, 3)    0.002306  0.001873  0.001884\n(0, 4)    0.002635  0.002278  0.002293\n(0, 5)    0.002820  0.002443  0.002458\n(0, 6)    0.002849  0.002443  0.002458\n(0, 7)    0.002617  0.002278  0.002293\n(0, 8)    0.002218  0.001873  0.001884\n(0, 9)    0.002071  0.001550  0.001558\n(0, 10)   0.001530  0.001309  0.001316\n(0, 11)   0.001029  0.000854  0.000859\n(1, 0)    0.001516  0.001346  0.001354\n(1, 1)    0.001929  0.001822  0.001832\n(1, 2)    0.002535  0.002351  0.002364\n(1, 3)    0.003046  0.002641  0.002652\n(1, 4)    0.003250  0.002792  0.002808\n(1, 5)    0.003448  0.002955  0.002979\n(1, 6)    0.003396  0.002955  0.002979\n(1, 7)    0.003206  0.002792  0.002808\n(1, 8)    0.003132  0.002641  0.002652\n(1, 9)    0.002810  0.002351  0.002364\n(1, 10)   0.002191  0.001822  0.001832\n(1, 11)   0.001708  0.001346  0.001354\n(2, 0)    0.002118  0.001873  0.001884\n(2, 1)    0.002515  0.002217  0.002230\n(2, 2)    0.003022  0.002639  0.002654\n(2, 3)    0.003533  0.002965  0.002984\n(2, 4)    0.003989  0.003013  0.003027\n(2, 5)    0.003856  0.003415  0.003434\n(2, 6)    0.003981  0.003415  0.003434\n(2, 7)    0.003554  0.003013  0.003027\n(2, 8)    0.003530  0.002965  0.002984\n(2, 9)    0.003280  0.002639  0.002654\n(2, 10)   0.002824  0.002217  0.002230\n(2, 11)   0.002113  0.001873  0.001884\n(3, 0)    0.002609  0.002423  0.002437\n(3, 1)    0.003106  0.002734  0.002750\n(3, 2)    0.003550  0.003101  0.003116\n(3, 3)    0.003784  0.003283  0.003303\n(3, 4)    0.003988  0.003437  0.003460\n(3, 5)    0.004109  0.003532  0.003556\n(3, 6)    0.004312  0.003532  0.003556\n(3, 7)    0.004145  0.003437  0.003460\n(3, 8)    0.004042  0.003283  0.003303\n(3, 9)    0.003844  0.003101  0.003116\n(3, 10)   0.003387  0.002734  0.002750\n(3, 11)   0.002898  0.002423  0.002437\n(4, 0)    0.003312  0.002930  0.002945\n(4, 1)    0.003830  0.003378  0.003395\n(4, 2)    0.004217  0.003692  0.003714\n(4, 3)    0.004627  0.004030  0.004056\n(4, 4)    0.004779  0.004141  0.004171\n(4, 5)    0.005046  0.004316  0.004345\n(4, 6)    0.005014  0.004316  0.004345\n(4, 7)    0.004955  0.004141  0.004171\n(4, 8)    0.004772  0.004030  0.004056\n(4, 9)    0.004418  0.003692  0.003714\n(4, 10)   0.004180  0.003378  0.003395\n(4, 11)   0.003562  0.002930  0.002945\n(5, 0)    0.004090  0.003590  0.003611\n(5, 1)    0.004558  0.004148  0.004171\n(5, 2)    0.005050  0.004435  0.004462\n(5, 3)    0.005586  0.004873  0.004904\n(5, 4)    0.005739  0.004989  0.005027\n(5, 5)    0.006026  0.005231  0.005273\n(5, 6)    0.005933  0.005231  0.005273\n(5, 7)    0.005974  0.004989  0.005027\n(5, 8)    0.005721  0.004873  0.004904\n(5, 9)    0.005403  0.004435  0.004462\n(5, 10)   0.004915  0.004148  0.004171\n(5, 11)   0.004259  0.003590  0.003611\n(6, 0)    0.005004  0.004440  0.004460\n(6, 1)    0.005738  0.005065  0.005090\n(6, 2)    0.006364  0.005615  0.005644\n(6, 3)    0.006593  0.005785  0.005822\n(6, 4)    0.006999  0.006116  0.006161\n(6, 5)    0.007403  0.006454  0.006517\n(6, 6)    0.007255  0.006454  0.006517\n(6, 7)    0.007194  0.006116  0.006161\n(6, 8)    0.007000  0.005785  0.005822\n(6, 9)    0.006612  0.005615  0.005644\n(6, 10)   0.006056  0.005065  0.005090\n(6, 11)   0.005323  0.004440  0.004460\n(7, 0)    0.006172  0.005488  0.005509\n(7, 1)    0.007192  0.006381  0.006407\n(7, 2)    0.007522  0.006653  0.006692\n(7, 3)    0.008364  0.007312  0.007357\n(7, 4)    0.008476  0.007439  0.007394\n(7, 5)    0.008075  0.007058  0.007393\n(7, 6)    0.008413  0.007058  0.007393\n(7, 7)    0.008668  0.007439  0.007394\n(7, 8)    0.008439  0.007312  0.007357\n(7, 9)    0.008145  0.006653  0.006692\n(7, 10)   0.007473  0.006381  0.006407\n(7, 11)   0.006588  0.005488  0.005509\n(8, 0)    0.007615  0.006797  0.006822\n(8, 1)    0.008621  0.007591  0.007625\n(8, 2)    0.009121  0.008095  0.008133\n(8, 3)    0.009596  0.008487  0.008535\n(8, 4)    0.010310  0.008840  0.008882\n(8, 5)    0.010009  0.008828  0.008881\n(8, 6)    0.010251  0.008828  0.008881\n(8, 7)    0.010072  0.008840  0.008882\n(8, 8)    0.009827  0.008487  0.008535\n(8, 9)    0.009449  0.008095  0.008133\n(8, 10)   0.008771  0.007591  0.007625\n(8, 11)   0.007905  0.006797  0.006822\n(9, 0)    0.009165  0.008192  0.008230\n(9, 1)    0.010392  0.009249  0.009295\n(9, 2)    0.011123  0.009937  0.009973\n(9, 3)    0.011533  0.010285  0.010323\n(9, 4)    0.012054  0.010465  0.010502\n(9, 5)    0.012394  0.011025  0.011064\n(9, 6)    0.012648  0.011025  0.011064\n(9, 7)    0.011819  0.010465  0.010502\n(9, 8)    0.011759  0.010285  0.010323\n(9, 9)    0.011309  0.009937  0.009973\n(9, 10)   0.010548  0.009249  0.009295\n(9, 11)   0.009656  0.008192  0.008230\n(10, 0)   0.011689  0.010470  0.010538\n(10, 1)   0.012981  0.011662  0.011708\n(10, 2)   0.014026  0.012569  0.012614\n(10, 3)   0.015221  0.013478  0.013523\n(10, 4)   0.015066  0.013547  0.013557\n(10, 5)   0.014949  0.013549  0.013557\n(10, 6)   0.015160  0.013549  0.013557\n(10, 7)   0.015216  0.013547  0.013557\n(10, 8)   0.015066  0.013478  0.013523\n(10, 9)   0.014427  0.012569  0.012614\n(10, 10)  0.013224  0.011662  0.011708\n(10, 11)  0.012247  0.010470  0.010538\n(11, 0)   0.014957  0.013472  0.013573\n(11, 1)   0.016692  0.015013  0.015089\n(11, 2)   0.018087  0.016343  0.016416\n(11, 3)   0.020823  0.017979  0.017986\n(11, 4)   0.019537  0.017842  0.017986\n(11, 5)   0.019821  0.018084  0.018052\n(11, 6)   0.021144  0.018084  0.018052\n(11, 7)   0.020521  0.017842  0.017986\n(11, 8)   0.019864  0.017979  0.017986\n(11, 9)   0.018670  0.016343  0.016416\n(11, 10)  0.016773  0.015013  0.015089\n(11, 11)  0.015053  0.013472  0.013573\n(12, 0)   0.017677  0.016013  0.016138\n(12, 1)   0.021262  0.018758  0.018862\n(12, 2)   0.024567  0.020907  0.021116\n(12, 3)   0.025055  0.023376  0.023332\n(12, 4)   0.029322  0.027915  0.027720\n(12, 5)   0.036462  0.034480  0.034335\n(12, 6)   0.036160  0.034480  0.034335\n(12, 7)   0.030363  0.027915  0.027720\n(12, 8)   0.025601  0.023376  0.023332\n(12, 9)   0.022498  0.020907  0.021116\n(12, 10)  0.020370  0.018758  0.018862\n(12, 11)  0.017643  0.016013  0.016138\n(13, 0)   0.018394  0.016873  0.016986\n(13, 1)   0.024580  0.021641  0.021727\n(13, 2)   0.028702  0.024471  0.024414\n(13, 3)   0.035149  0.033361  0.033579\n(13, 4)   0.070550  0.069179  0.064943\n(13, 5)   0.077001  0.075593  0.075417\n(13, 6)   0.084869  0.075593  0.075417\n(13, 7)   0.068978  0.069179  0.064943\n(13, 8)   0.038418  0.033361  0.033579\n(13, 9)   0.026263  0.024471  0.024414\n(13, 10)  0.022982  0.021641  0.021727\n(13, 11)  0.019895  0.016873  0.016986\n(14, 0)   0.018630  0.017410  0.017686\n(14, 1)   0.023152  0.021414  0.021727\n(14, 2)   0.033817  0.031593  0.027329\n(14, 3)   0.043171  0.041142  0.040124\n(14, 4)   0.099819  0.098432  0.098360\n(14, 5)   0.190227  0.184984  0.185903\n(14, 6)   0.187113  0.184984  0.185903\n(14, 7)   0.131806  0.098432  0.098360\n(14, 8)   0.050468  0.041142  0.040124\n(14, 9)   0.028164  0.031593  0.027329\n(14, 10)  0.020692  0.021414  0.021727\n(14, 11)  0.018745  0.017410  0.017686\n(15, 0)   0.018813  0.021948  0.022555\n(15, 1)   0.025382  0.024240  0.025151\n(15, 2)   0.030980  0.028804  0.030103\n(15, 3)   0.039593  0.027544  0.040124\n(15, 4)   0.091523  0.094493  0.098360\n(15, 5)   0.382598  0.381633  0.429166\n(15, 6)   0.428257  0.381633  0.429166\n(15, 7)   0.098388  0.094493  0.098360\n(15, 8)   0.029122  0.027544  0.040124\n(15, 9)   0.026838  0.028804  0.030103\n(15, 10)  0.025522  0.024240  0.025151\n(15, 11)  0.023181  0.021948  0.022555\n"
     ]
    }
   ],
   "source": [
    "with pd.option_context('display.max_rows', None):\n",
    "    print(so.get_solution_table(xT1, xT2, xT3))"
   ]
  },
  {
   "cell_type": "code",
   "execution_count": 19,
   "metadata": {},
   "outputs": [
    {
     "output_type": "execute_result",
     "data": {
      "text/plain": [
       "             0         1         2         3         4         5         6   \\\n",
       "xT 0   0.001014  0.001516  0.002118  0.002609  0.003312  0.004090  0.005004   \n",
       "   1   0.001490  0.001929  0.002515  0.003106  0.003830  0.004558  0.005738   \n",
       "   2   0.001763  0.002535  0.003022  0.003550  0.004217  0.005050  0.006364   \n",
       "   3   0.002306  0.003046  0.003533  0.003784  0.004627  0.005586  0.006593   \n",
       "   4   0.002635  0.003250  0.003989  0.003988  0.004779  0.005739  0.006999   \n",
       "   5   0.002820  0.003448  0.003856  0.004109  0.005046  0.006026  0.007403   \n",
       "   6   0.002849  0.003396  0.003981  0.004312  0.005014  0.005933  0.007255   \n",
       "   7   0.002617  0.003206  0.003554  0.004145  0.004955  0.005974  0.007194   \n",
       "   8   0.002218  0.003132  0.003530  0.004042  0.004772  0.005721  0.007000   \n",
       "   9   0.002071  0.002810  0.003280  0.003844  0.004418  0.005403  0.006612   \n",
       "   10  0.001530  0.002191  0.002824  0.003387  0.004180  0.004915  0.006056   \n",
       "   11  0.001029  0.001708  0.002113  0.002898  0.003562  0.004259  0.005323   \n",
       "\n",
       "             7         8         9         10        11        12        13  \\\n",
       "xT 0   0.006172  0.007615  0.009165  0.011689  0.014957  0.017677  0.018394   \n",
       "   1   0.007192  0.008621  0.010392  0.012981  0.016692  0.021262  0.024580   \n",
       "   2   0.007522  0.009121  0.011123  0.014026  0.018087  0.024567  0.028702   \n",
       "   3   0.008364  0.009596  0.011533  0.015221  0.020823  0.025055  0.035149   \n",
       "   4   0.008476  0.010310  0.012054  0.015066  0.019537  0.029322  0.070550   \n",
       "   5   0.008075  0.010009  0.012394  0.014949  0.019821  0.036462  0.077001   \n",
       "   6   0.008413  0.010251  0.012648  0.015160  0.021144  0.036160  0.084869   \n",
       "   7   0.008668  0.010072  0.011819  0.015216  0.020521  0.030363  0.068978   \n",
       "   8   0.008439  0.009827  0.011759  0.015066  0.019864  0.025601  0.038418   \n",
       "   9   0.008145  0.009449  0.011309  0.014427  0.018670  0.022498  0.026263   \n",
       "   10  0.007473  0.008771  0.010548  0.013224  0.016773  0.020370  0.022982   \n",
       "   11  0.006588  0.007905  0.009656  0.012247  0.015053  0.017643  0.019895   \n",
       "\n",
       "             14        15  \n",
       "xT 0   0.018630  0.018813  \n",
       "   1   0.023152  0.025382  \n",
       "   2   0.033817  0.030980  \n",
       "   3   0.043171  0.039593  \n",
       "   4   0.099819  0.091523  \n",
       "   5   0.190227  0.382598  \n",
       "   6   0.187113  0.428257  \n",
       "   7   0.131806  0.098388  \n",
       "   8   0.050468  0.029122  \n",
       "   9   0.028164  0.026838  \n",
       "   10  0.020692  0.025522  \n",
       "   11  0.018745  0.023181  "
      ],
      "text/html": "<div>\n<style scoped>\n    .dataframe tbody tr th:only-of-type {\n        vertical-align: middle;\n    }\n\n    .dataframe tbody tr th {\n        vertical-align: top;\n    }\n\n    .dataframe thead th {\n        text-align: right;\n    }\n</style>\n<table border=\"1\" class=\"dataframe\">\n  <thead>\n    <tr style=\"text-align: right;\">\n      <th></th>\n      <th></th>\n      <th>0</th>\n      <th>1</th>\n      <th>2</th>\n      <th>3</th>\n      <th>4</th>\n      <th>5</th>\n      <th>6</th>\n      <th>7</th>\n      <th>8</th>\n      <th>9</th>\n      <th>10</th>\n      <th>11</th>\n      <th>12</th>\n      <th>13</th>\n      <th>14</th>\n      <th>15</th>\n    </tr>\n  </thead>\n  <tbody>\n    <tr>\n      <th rowspan=\"12\" valign=\"top\">xT</th>\n      <th>0</th>\n      <td>0.001014</td>\n      <td>0.001516</td>\n      <td>0.002118</td>\n      <td>0.002609</td>\n      <td>0.003312</td>\n      <td>0.004090</td>\n      <td>0.005004</td>\n      <td>0.006172</td>\n      <td>0.007615</td>\n      <td>0.009165</td>\n      <td>0.011689</td>\n      <td>0.014957</td>\n      <td>0.017677</td>\n      <td>0.018394</td>\n      <td>0.018630</td>\n      <td>0.018813</td>\n    </tr>\n    <tr>\n      <th>1</th>\n      <td>0.001490</td>\n      <td>0.001929</td>\n      <td>0.002515</td>\n      <td>0.003106</td>\n      <td>0.003830</td>\n      <td>0.004558</td>\n      <td>0.005738</td>\n      <td>0.007192</td>\n      <td>0.008621</td>\n      <td>0.010392</td>\n      <td>0.012981</td>\n      <td>0.016692</td>\n      <td>0.021262</td>\n      <td>0.024580</td>\n      <td>0.023152</td>\n      <td>0.025382</td>\n    </tr>\n    <tr>\n      <th>2</th>\n      <td>0.001763</td>\n      <td>0.002535</td>\n      <td>0.003022</td>\n      <td>0.003550</td>\n      <td>0.004217</td>\n      <td>0.005050</td>\n      <td>0.006364</td>\n      <td>0.007522</td>\n      <td>0.009121</td>\n      <td>0.011123</td>\n      <td>0.014026</td>\n      <td>0.018087</td>\n      <td>0.024567</td>\n      <td>0.028702</td>\n      <td>0.033817</td>\n      <td>0.030980</td>\n    </tr>\n    <tr>\n      <th>3</th>\n      <td>0.002306</td>\n      <td>0.003046</td>\n      <td>0.003533</td>\n      <td>0.003784</td>\n      <td>0.004627</td>\n      <td>0.005586</td>\n      <td>0.006593</td>\n      <td>0.008364</td>\n      <td>0.009596</td>\n      <td>0.011533</td>\n      <td>0.015221</td>\n      <td>0.020823</td>\n      <td>0.025055</td>\n      <td>0.035149</td>\n      <td>0.043171</td>\n      <td>0.039593</td>\n    </tr>\n    <tr>\n      <th>4</th>\n      <td>0.002635</td>\n      <td>0.003250</td>\n      <td>0.003989</td>\n      <td>0.003988</td>\n      <td>0.004779</td>\n      <td>0.005739</td>\n      <td>0.006999</td>\n      <td>0.008476</td>\n      <td>0.010310</td>\n      <td>0.012054</td>\n      <td>0.015066</td>\n      <td>0.019537</td>\n      <td>0.029322</td>\n      <td>0.070550</td>\n      <td>0.099819</td>\n      <td>0.091523</td>\n    </tr>\n    <tr>\n      <th>5</th>\n      <td>0.002820</td>\n      <td>0.003448</td>\n      <td>0.003856</td>\n      <td>0.004109</td>\n      <td>0.005046</td>\n      <td>0.006026</td>\n      <td>0.007403</td>\n      <td>0.008075</td>\n      <td>0.010009</td>\n      <td>0.012394</td>\n      <td>0.014949</td>\n      <td>0.019821</td>\n      <td>0.036462</td>\n      <td>0.077001</td>\n      <td>0.190227</td>\n      <td>0.382598</td>\n    </tr>\n    <tr>\n      <th>6</th>\n      <td>0.002849</td>\n      <td>0.003396</td>\n      <td>0.003981</td>\n      <td>0.004312</td>\n      <td>0.005014</td>\n      <td>0.005933</td>\n      <td>0.007255</td>\n      <td>0.008413</td>\n      <td>0.010251</td>\n      <td>0.012648</td>\n      <td>0.015160</td>\n      <td>0.021144</td>\n      <td>0.036160</td>\n      <td>0.084869</td>\n      <td>0.187113</td>\n      <td>0.428257</td>\n    </tr>\n    <tr>\n      <th>7</th>\n      <td>0.002617</td>\n      <td>0.003206</td>\n      <td>0.003554</td>\n      <td>0.004145</td>\n      <td>0.004955</td>\n      <td>0.005974</td>\n      <td>0.007194</td>\n      <td>0.008668</td>\n      <td>0.010072</td>\n      <td>0.011819</td>\n      <td>0.015216</td>\n      <td>0.020521</td>\n      <td>0.030363</td>\n      <td>0.068978</td>\n      <td>0.131806</td>\n      <td>0.098388</td>\n    </tr>\n    <tr>\n      <th>8</th>\n      <td>0.002218</td>\n      <td>0.003132</td>\n      <td>0.003530</td>\n      <td>0.004042</td>\n      <td>0.004772</td>\n      <td>0.005721</td>\n      <td>0.007000</td>\n      <td>0.008439</td>\n      <td>0.009827</td>\n      <td>0.011759</td>\n      <td>0.015066</td>\n      <td>0.019864</td>\n      <td>0.025601</td>\n      <td>0.038418</td>\n      <td>0.050468</td>\n      <td>0.029122</td>\n    </tr>\n    <tr>\n      <th>9</th>\n      <td>0.002071</td>\n      <td>0.002810</td>\n      <td>0.003280</td>\n      <td>0.003844</td>\n      <td>0.004418</td>\n      <td>0.005403</td>\n      <td>0.006612</td>\n      <td>0.008145</td>\n      <td>0.009449</td>\n      <td>0.011309</td>\n      <td>0.014427</td>\n      <td>0.018670</td>\n      <td>0.022498</td>\n      <td>0.026263</td>\n      <td>0.028164</td>\n      <td>0.026838</td>\n    </tr>\n    <tr>\n      <th>10</th>\n      <td>0.001530</td>\n      <td>0.002191</td>\n      <td>0.002824</td>\n      <td>0.003387</td>\n      <td>0.004180</td>\n      <td>0.004915</td>\n      <td>0.006056</td>\n      <td>0.007473</td>\n      <td>0.008771</td>\n      <td>0.010548</td>\n      <td>0.013224</td>\n      <td>0.016773</td>\n      <td>0.020370</td>\n      <td>0.022982</td>\n      <td>0.020692</td>\n      <td>0.025522</td>\n    </tr>\n    <tr>\n      <th>11</th>\n      <td>0.001029</td>\n      <td>0.001708</td>\n      <td>0.002113</td>\n      <td>0.002898</td>\n      <td>0.003562</td>\n      <td>0.004259</td>\n      <td>0.005323</td>\n      <td>0.006588</td>\n      <td>0.007905</td>\n      <td>0.009656</td>\n      <td>0.012247</td>\n      <td>0.015053</td>\n      <td>0.017643</td>\n      <td>0.019895</td>\n      <td>0.018745</td>\n      <td>0.023181</td>\n    </tr>\n  </tbody>\n</table>\n</div>"
     },
     "metadata": {},
     "execution_count": 19
    }
   ],
   "source": [
    "table1 = so.get_solution_table(xT1)\n",
    "table1.index = pd.MultiIndex.from_tuples(table1.index)\n",
    "table1.unstack().transpose()"
   ]
  },
  {
   "cell_type": "code",
   "execution_count": 20,
   "metadata": {},
   "outputs": [
    {
     "output_type": "execute_result",
     "data": {
      "text/plain": [
       "             0         1         2         3         4         5         6   \\\n",
       "xT 0   0.000854  0.001346  0.001873  0.002423  0.002930  0.003590  0.004440   \n",
       "   1   0.001309  0.001822  0.002217  0.002734  0.003378  0.004148  0.005065   \n",
       "   2   0.001550  0.002351  0.002639  0.003101  0.003692  0.004435  0.005615   \n",
       "   3   0.001873  0.002641  0.002965  0.003283  0.004030  0.004873  0.005785   \n",
       "   4   0.002278  0.002792  0.003013  0.003437  0.004141  0.004989  0.006116   \n",
       "   5   0.002443  0.002955  0.003415  0.003532  0.004316  0.005231  0.006454   \n",
       "   6   0.002443  0.002955  0.003415  0.003532  0.004316  0.005231  0.006454   \n",
       "   7   0.002278  0.002792  0.003013  0.003437  0.004141  0.004989  0.006116   \n",
       "   8   0.001873  0.002641  0.002965  0.003283  0.004030  0.004873  0.005785   \n",
       "   9   0.001550  0.002351  0.002639  0.003101  0.003692  0.004435  0.005615   \n",
       "   10  0.001309  0.001822  0.002217  0.002734  0.003378  0.004148  0.005065   \n",
       "   11  0.000854  0.001346  0.001873  0.002423  0.002930  0.003590  0.004440   \n",
       "\n",
       "             7         8         9         10        11        12        13  \\\n",
       "xT 0   0.005488  0.006797  0.008192  0.010470  0.013472  0.016013  0.016873   \n",
       "   1   0.006381  0.007591  0.009249  0.011662  0.015013  0.018758  0.021641   \n",
       "   2   0.006653  0.008095  0.009937  0.012569  0.016343  0.020907  0.024471   \n",
       "   3   0.007312  0.008487  0.010285  0.013478  0.017979  0.023376  0.033361   \n",
       "   4   0.007439  0.008840  0.010465  0.013547  0.017842  0.027915  0.069179   \n",
       "   5   0.007058  0.008828  0.011025  0.013549  0.018084  0.034480  0.075593   \n",
       "   6   0.007058  0.008828  0.011025  0.013549  0.018084  0.034480  0.075593   \n",
       "   7   0.007439  0.008840  0.010465  0.013547  0.017842  0.027915  0.069179   \n",
       "   8   0.007312  0.008487  0.010285  0.013478  0.017979  0.023376  0.033361   \n",
       "   9   0.006653  0.008095  0.009937  0.012569  0.016343  0.020907  0.024471   \n",
       "   10  0.006381  0.007591  0.009249  0.011662  0.015013  0.018758  0.021641   \n",
       "   11  0.005488  0.006797  0.008192  0.010470  0.013472  0.016013  0.016873   \n",
       "\n",
       "             14        15  \n",
       "xT 0   0.017410  0.021948  \n",
       "   1   0.021414  0.024240  \n",
       "   2   0.031593  0.028804  \n",
       "   3   0.041142  0.027544  \n",
       "   4   0.098432  0.094493  \n",
       "   5   0.184984  0.381633  \n",
       "   6   0.184984  0.381633  \n",
       "   7   0.098432  0.094493  \n",
       "   8   0.041142  0.027544  \n",
       "   9   0.031593  0.028804  \n",
       "   10  0.021414  0.024240  \n",
       "   11  0.017410  0.021948  "
      ],
      "text/html": "<div>\n<style scoped>\n    .dataframe tbody tr th:only-of-type {\n        vertical-align: middle;\n    }\n\n    .dataframe tbody tr th {\n        vertical-align: top;\n    }\n\n    .dataframe thead th {\n        text-align: right;\n    }\n</style>\n<table border=\"1\" class=\"dataframe\">\n  <thead>\n    <tr style=\"text-align: right;\">\n      <th></th>\n      <th></th>\n      <th>0</th>\n      <th>1</th>\n      <th>2</th>\n      <th>3</th>\n      <th>4</th>\n      <th>5</th>\n      <th>6</th>\n      <th>7</th>\n      <th>8</th>\n      <th>9</th>\n      <th>10</th>\n      <th>11</th>\n      <th>12</th>\n      <th>13</th>\n      <th>14</th>\n      <th>15</th>\n    </tr>\n  </thead>\n  <tbody>\n    <tr>\n      <th rowspan=\"12\" valign=\"top\">xT</th>\n      <th>0</th>\n      <td>0.000854</td>\n      <td>0.001346</td>\n      <td>0.001873</td>\n      <td>0.002423</td>\n      <td>0.002930</td>\n      <td>0.003590</td>\n      <td>0.004440</td>\n      <td>0.005488</td>\n      <td>0.006797</td>\n      <td>0.008192</td>\n      <td>0.010470</td>\n      <td>0.013472</td>\n      <td>0.016013</td>\n      <td>0.016873</td>\n      <td>0.017410</td>\n      <td>0.021948</td>\n    </tr>\n    <tr>\n      <th>1</th>\n      <td>0.001309</td>\n      <td>0.001822</td>\n      <td>0.002217</td>\n      <td>0.002734</td>\n      <td>0.003378</td>\n      <td>0.004148</td>\n      <td>0.005065</td>\n      <td>0.006381</td>\n      <td>0.007591</td>\n      <td>0.009249</td>\n      <td>0.011662</td>\n      <td>0.015013</td>\n      <td>0.018758</td>\n      <td>0.021641</td>\n      <td>0.021414</td>\n      <td>0.024240</td>\n    </tr>\n    <tr>\n      <th>2</th>\n      <td>0.001550</td>\n      <td>0.002351</td>\n      <td>0.002639</td>\n      <td>0.003101</td>\n      <td>0.003692</td>\n      <td>0.004435</td>\n      <td>0.005615</td>\n      <td>0.006653</td>\n      <td>0.008095</td>\n      <td>0.009937</td>\n      <td>0.012569</td>\n      <td>0.016343</td>\n      <td>0.020907</td>\n      <td>0.024471</td>\n      <td>0.031593</td>\n      <td>0.028804</td>\n    </tr>\n    <tr>\n      <th>3</th>\n      <td>0.001873</td>\n      <td>0.002641</td>\n      <td>0.002965</td>\n      <td>0.003283</td>\n      <td>0.004030</td>\n      <td>0.004873</td>\n      <td>0.005785</td>\n      <td>0.007312</td>\n      <td>0.008487</td>\n      <td>0.010285</td>\n      <td>0.013478</td>\n      <td>0.017979</td>\n      <td>0.023376</td>\n      <td>0.033361</td>\n      <td>0.041142</td>\n      <td>0.027544</td>\n    </tr>\n    <tr>\n      <th>4</th>\n      <td>0.002278</td>\n      <td>0.002792</td>\n      <td>0.003013</td>\n      <td>0.003437</td>\n      <td>0.004141</td>\n      <td>0.004989</td>\n      <td>0.006116</td>\n      <td>0.007439</td>\n      <td>0.008840</td>\n      <td>0.010465</td>\n      <td>0.013547</td>\n      <td>0.017842</td>\n      <td>0.027915</td>\n      <td>0.069179</td>\n      <td>0.098432</td>\n      <td>0.094493</td>\n    </tr>\n    <tr>\n      <th>5</th>\n      <td>0.002443</td>\n      <td>0.002955</td>\n      <td>0.003415</td>\n      <td>0.003532</td>\n      <td>0.004316</td>\n      <td>0.005231</td>\n      <td>0.006454</td>\n      <td>0.007058</td>\n      <td>0.008828</td>\n      <td>0.011025</td>\n      <td>0.013549</td>\n      <td>0.018084</td>\n      <td>0.034480</td>\n      <td>0.075593</td>\n      <td>0.184984</td>\n      <td>0.381633</td>\n    </tr>\n    <tr>\n      <th>6</th>\n      <td>0.002443</td>\n      <td>0.002955</td>\n      <td>0.003415</td>\n      <td>0.003532</td>\n      <td>0.004316</td>\n      <td>0.005231</td>\n      <td>0.006454</td>\n      <td>0.007058</td>\n      <td>0.008828</td>\n      <td>0.011025</td>\n      <td>0.013549</td>\n      <td>0.018084</td>\n      <td>0.034480</td>\n      <td>0.075593</td>\n      <td>0.184984</td>\n      <td>0.381633</td>\n    </tr>\n    <tr>\n      <th>7</th>\n      <td>0.002278</td>\n      <td>0.002792</td>\n      <td>0.003013</td>\n      <td>0.003437</td>\n      <td>0.004141</td>\n      <td>0.004989</td>\n      <td>0.006116</td>\n      <td>0.007439</td>\n      <td>0.008840</td>\n      <td>0.010465</td>\n      <td>0.013547</td>\n      <td>0.017842</td>\n      <td>0.027915</td>\n      <td>0.069179</td>\n      <td>0.098432</td>\n      <td>0.094493</td>\n    </tr>\n    <tr>\n      <th>8</th>\n      <td>0.001873</td>\n      <td>0.002641</td>\n      <td>0.002965</td>\n      <td>0.003283</td>\n      <td>0.004030</td>\n      <td>0.004873</td>\n      <td>0.005785</td>\n      <td>0.007312</td>\n      <td>0.008487</td>\n      <td>0.010285</td>\n      <td>0.013478</td>\n      <td>0.017979</td>\n      <td>0.023376</td>\n      <td>0.033361</td>\n      <td>0.041142</td>\n      <td>0.027544</td>\n    </tr>\n    <tr>\n      <th>9</th>\n      <td>0.001550</td>\n      <td>0.002351</td>\n      <td>0.002639</td>\n      <td>0.003101</td>\n      <td>0.003692</td>\n      <td>0.004435</td>\n      <td>0.005615</td>\n      <td>0.006653</td>\n      <td>0.008095</td>\n      <td>0.009937</td>\n      <td>0.012569</td>\n      <td>0.016343</td>\n      <td>0.020907</td>\n      <td>0.024471</td>\n      <td>0.031593</td>\n      <td>0.028804</td>\n    </tr>\n    <tr>\n      <th>10</th>\n      <td>0.001309</td>\n      <td>0.001822</td>\n      <td>0.002217</td>\n      <td>0.002734</td>\n      <td>0.003378</td>\n      <td>0.004148</td>\n      <td>0.005065</td>\n      <td>0.006381</td>\n      <td>0.007591</td>\n      <td>0.009249</td>\n      <td>0.011662</td>\n      <td>0.015013</td>\n      <td>0.018758</td>\n      <td>0.021641</td>\n      <td>0.021414</td>\n      <td>0.024240</td>\n    </tr>\n    <tr>\n      <th>11</th>\n      <td>0.000854</td>\n      <td>0.001346</td>\n      <td>0.001873</td>\n      <td>0.002423</td>\n      <td>0.002930</td>\n      <td>0.003590</td>\n      <td>0.004440</td>\n      <td>0.005488</td>\n      <td>0.006797</td>\n      <td>0.008192</td>\n      <td>0.010470</td>\n      <td>0.013472</td>\n      <td>0.016013</td>\n      <td>0.016873</td>\n      <td>0.017410</td>\n      <td>0.021948</td>\n    </tr>\n  </tbody>\n</table>\n</div>"
     },
     "metadata": {},
     "execution_count": 20
    }
   ],
   "source": [
    "table2 = so.get_solution_table(xT2)\n",
    "table2.index = pd.MultiIndex.from_tuples(table2.index)\n",
    "table2.unstack().transpose()"
   ]
  },
  {
   "cell_type": "code",
   "execution_count": 21,
   "metadata": {},
   "outputs": [
    {
     "output_type": "execute_result",
     "data": {
      "text/plain": [
       "             0         1         2         3         4         5         6   \\\n",
       "xT 0   0.000859  0.001354  0.001884  0.002437  0.002945  0.003611  0.004460   \n",
       "   1   0.001316  0.001832  0.002230  0.002750  0.003395  0.004171  0.005090   \n",
       "   2   0.001558  0.002364  0.002654  0.003116  0.003714  0.004462  0.005644   \n",
       "   3   0.001884  0.002652  0.002984  0.003303  0.004056  0.004904  0.005822   \n",
       "   4   0.002293  0.002808  0.003027  0.003460  0.004171  0.005027  0.006161   \n",
       "   5   0.002458  0.002979  0.003434  0.003556  0.004345  0.005273  0.006517   \n",
       "   6   0.002458  0.002979  0.003434  0.003556  0.004345  0.005273  0.006517   \n",
       "   7   0.002293  0.002808  0.003027  0.003460  0.004171  0.005027  0.006161   \n",
       "   8   0.001884  0.002652  0.002984  0.003303  0.004056  0.004904  0.005822   \n",
       "   9   0.001558  0.002364  0.002654  0.003116  0.003714  0.004462  0.005644   \n",
       "   10  0.001316  0.001832  0.002230  0.002750  0.003395  0.004171  0.005090   \n",
       "   11  0.000859  0.001354  0.001884  0.002437  0.002945  0.003611  0.004460   \n",
       "\n",
       "             7         8         9         10        11        12        13  \\\n",
       "xT 0   0.005509  0.006822  0.008230  0.010538  0.013573  0.016138  0.016986   \n",
       "   1   0.006407  0.007625  0.009295  0.011708  0.015089  0.018862  0.021727   \n",
       "   2   0.006692  0.008133  0.009973  0.012614  0.016416  0.021116  0.024414   \n",
       "   3   0.007357  0.008535  0.010323  0.013523  0.017986  0.023332  0.033579   \n",
       "   4   0.007394  0.008882  0.010502  0.013557  0.017986  0.027720  0.064943   \n",
       "   5   0.007393  0.008881  0.011064  0.013557  0.018052  0.034335  0.075417   \n",
       "   6   0.007393  0.008881  0.011064  0.013557  0.018052  0.034335  0.075417   \n",
       "   7   0.007394  0.008882  0.010502  0.013557  0.017986  0.027720  0.064943   \n",
       "   8   0.007357  0.008535  0.010323  0.013523  0.017986  0.023332  0.033579   \n",
       "   9   0.006692  0.008133  0.009973  0.012614  0.016416  0.021116  0.024414   \n",
       "   10  0.006407  0.007625  0.009295  0.011708  0.015089  0.018862  0.021727   \n",
       "   11  0.005509  0.006822  0.008230  0.010538  0.013573  0.016138  0.016986   \n",
       "\n",
       "             14        15  \n",
       "xT 0   0.017686  0.022555  \n",
       "   1   0.021727  0.025151  \n",
       "   2   0.027329  0.030103  \n",
       "   3   0.040124  0.040124  \n",
       "   4   0.098360  0.098360  \n",
       "   5   0.185903  0.429166  \n",
       "   6   0.185903  0.429166  \n",
       "   7   0.098360  0.098360  \n",
       "   8   0.040124  0.040124  \n",
       "   9   0.027329  0.030103  \n",
       "   10  0.021727  0.025151  \n",
       "   11  0.017686  0.022555  "
      ],
      "text/html": "<div>\n<style scoped>\n    .dataframe tbody tr th:only-of-type {\n        vertical-align: middle;\n    }\n\n    .dataframe tbody tr th {\n        vertical-align: top;\n    }\n\n    .dataframe thead th {\n        text-align: right;\n    }\n</style>\n<table border=\"1\" class=\"dataframe\">\n  <thead>\n    <tr style=\"text-align: right;\">\n      <th></th>\n      <th></th>\n      <th>0</th>\n      <th>1</th>\n      <th>2</th>\n      <th>3</th>\n      <th>4</th>\n      <th>5</th>\n      <th>6</th>\n      <th>7</th>\n      <th>8</th>\n      <th>9</th>\n      <th>10</th>\n      <th>11</th>\n      <th>12</th>\n      <th>13</th>\n      <th>14</th>\n      <th>15</th>\n    </tr>\n  </thead>\n  <tbody>\n    <tr>\n      <th rowspan=\"12\" valign=\"top\">xT</th>\n      <th>0</th>\n      <td>0.000859</td>\n      <td>0.001354</td>\n      <td>0.001884</td>\n      <td>0.002437</td>\n      <td>0.002945</td>\n      <td>0.003611</td>\n      <td>0.004460</td>\n      <td>0.005509</td>\n      <td>0.006822</td>\n      <td>0.008230</td>\n      <td>0.010538</td>\n      <td>0.013573</td>\n      <td>0.016138</td>\n      <td>0.016986</td>\n      <td>0.017686</td>\n      <td>0.022555</td>\n    </tr>\n    <tr>\n      <th>1</th>\n      <td>0.001316</td>\n      <td>0.001832</td>\n      <td>0.002230</td>\n      <td>0.002750</td>\n      <td>0.003395</td>\n      <td>0.004171</td>\n      <td>0.005090</td>\n      <td>0.006407</td>\n      <td>0.007625</td>\n      <td>0.009295</td>\n      <td>0.011708</td>\n      <td>0.015089</td>\n      <td>0.018862</td>\n      <td>0.021727</td>\n      <td>0.021727</td>\n      <td>0.025151</td>\n    </tr>\n    <tr>\n      <th>2</th>\n      <td>0.001558</td>\n      <td>0.002364</td>\n      <td>0.002654</td>\n      <td>0.003116</td>\n      <td>0.003714</td>\n      <td>0.004462</td>\n      <td>0.005644</td>\n      <td>0.006692</td>\n      <td>0.008133</td>\n      <td>0.009973</td>\n      <td>0.012614</td>\n      <td>0.016416</td>\n      <td>0.021116</td>\n      <td>0.024414</td>\n      <td>0.027329</td>\n      <td>0.030103</td>\n    </tr>\n    <tr>\n      <th>3</th>\n      <td>0.001884</td>\n      <td>0.002652</td>\n      <td>0.002984</td>\n      <td>0.003303</td>\n      <td>0.004056</td>\n      <td>0.004904</td>\n      <td>0.005822</td>\n      <td>0.007357</td>\n      <td>0.008535</td>\n      <td>0.010323</td>\n      <td>0.013523</td>\n      <td>0.017986</td>\n      <td>0.023332</td>\n      <td>0.033579</td>\n      <td>0.040124</td>\n      <td>0.040124</td>\n    </tr>\n    <tr>\n      <th>4</th>\n      <td>0.002293</td>\n      <td>0.002808</td>\n      <td>0.003027</td>\n      <td>0.003460</td>\n      <td>0.004171</td>\n      <td>0.005027</td>\n      <td>0.006161</td>\n      <td>0.007394</td>\n      <td>0.008882</td>\n      <td>0.010502</td>\n      <td>0.013557</td>\n      <td>0.017986</td>\n      <td>0.027720</td>\n      <td>0.064943</td>\n      <td>0.098360</td>\n      <td>0.098360</td>\n    </tr>\n    <tr>\n      <th>5</th>\n      <td>0.002458</td>\n      <td>0.002979</td>\n      <td>0.003434</td>\n      <td>0.003556</td>\n      <td>0.004345</td>\n      <td>0.005273</td>\n      <td>0.006517</td>\n      <td>0.007393</td>\n      <td>0.008881</td>\n      <td>0.011064</td>\n      <td>0.013557</td>\n      <td>0.018052</td>\n      <td>0.034335</td>\n      <td>0.075417</td>\n      <td>0.185903</td>\n      <td>0.429166</td>\n    </tr>\n    <tr>\n      <th>6</th>\n      <td>0.002458</td>\n      <td>0.002979</td>\n      <td>0.003434</td>\n      <td>0.003556</td>\n      <td>0.004345</td>\n      <td>0.005273</td>\n      <td>0.006517</td>\n      <td>0.007393</td>\n      <td>0.008881</td>\n      <td>0.011064</td>\n      <td>0.013557</td>\n      <td>0.018052</td>\n      <td>0.034335</td>\n      <td>0.075417</td>\n      <td>0.185903</td>\n      <td>0.429166</td>\n    </tr>\n    <tr>\n      <th>7</th>\n      <td>0.002293</td>\n      <td>0.002808</td>\n      <td>0.003027</td>\n      <td>0.003460</td>\n      <td>0.004171</td>\n      <td>0.005027</td>\n      <td>0.006161</td>\n      <td>0.007394</td>\n      <td>0.008882</td>\n      <td>0.010502</td>\n      <td>0.013557</td>\n      <td>0.017986</td>\n      <td>0.027720</td>\n      <td>0.064943</td>\n      <td>0.098360</td>\n      <td>0.098360</td>\n    </tr>\n    <tr>\n      <th>8</th>\n      <td>0.001884</td>\n      <td>0.002652</td>\n      <td>0.002984</td>\n      <td>0.003303</td>\n      <td>0.004056</td>\n      <td>0.004904</td>\n      <td>0.005822</td>\n      <td>0.007357</td>\n      <td>0.008535</td>\n      <td>0.010323</td>\n      <td>0.013523</td>\n      <td>0.017986</td>\n      <td>0.023332</td>\n      <td>0.033579</td>\n      <td>0.040124</td>\n      <td>0.040124</td>\n    </tr>\n    <tr>\n      <th>9</th>\n      <td>0.001558</td>\n      <td>0.002364</td>\n      <td>0.002654</td>\n      <td>0.003116</td>\n      <td>0.003714</td>\n      <td>0.004462</td>\n      <td>0.005644</td>\n      <td>0.006692</td>\n      <td>0.008133</td>\n      <td>0.009973</td>\n      <td>0.012614</td>\n      <td>0.016416</td>\n      <td>0.021116</td>\n      <td>0.024414</td>\n      <td>0.027329</td>\n      <td>0.030103</td>\n    </tr>\n    <tr>\n      <th>10</th>\n      <td>0.001316</td>\n      <td>0.001832</td>\n      <td>0.002230</td>\n      <td>0.002750</td>\n      <td>0.003395</td>\n      <td>0.004171</td>\n      <td>0.005090</td>\n      <td>0.006407</td>\n      <td>0.007625</td>\n      <td>0.009295</td>\n      <td>0.011708</td>\n      <td>0.015089</td>\n      <td>0.018862</td>\n      <td>0.021727</td>\n      <td>0.021727</td>\n      <td>0.025151</td>\n    </tr>\n    <tr>\n      <th>11</th>\n      <td>0.000859</td>\n      <td>0.001354</td>\n      <td>0.001884</td>\n      <td>0.002437</td>\n      <td>0.002945</td>\n      <td>0.003611</td>\n      <td>0.004460</td>\n      <td>0.005509</td>\n      <td>0.006822</td>\n      <td>0.008230</td>\n      <td>0.010538</td>\n      <td>0.013573</td>\n      <td>0.016138</td>\n      <td>0.016986</td>\n      <td>0.017686</td>\n      <td>0.022555</td>\n    </tr>\n  </tbody>\n</table>\n</div>"
     },
     "metadata": {},
     "execution_count": 21
    }
   ],
   "source": [
    "table3 = so.get_solution_table(xT3)\n",
    "table3.index = pd.MultiIndex.from_tuples(table3.index)\n",
    "table3.unstack().transpose()"
   ]
  },
  {
   "cell_type": "code",
   "execution_count": 22,
   "metadata": {
    "tags": []
   },
   "outputs": [
    {
     "output_type": "stream",
     "name": "stdout",
     "text": [
      "NOTE: Initialized model optimal_flow.\n",
      "Welcome to the CBC MILP Solver \n",
      "Version: devel \n",
      "Build Date: Nov 25 2020 \n",
      "\n",
      "command line - cbc export.mps presolve off solve solu solution.txt (default strategy 1)\n",
      "At line 1 NAME     optimal_flow\n",
      "At line 2 ROWS\n",
      "At line 583 COLUMNS\n",
      "At line 75307 RHS\n",
      "At line 75310 RANGES\n",
      "At line 75311 BOUNDS\n",
      "At line 113140 ENDATA\n",
      "Problem optimal_flow has 579 rows, 37828 columns and 111553 elements\n",
      "Coin0008I optimal_flow read with 0 errors\n",
      "Option for presolve changed from on to off\n",
      "Continuous objective value is -0.436501 - 0.06 seconds\n",
      "Cgl0002I 192 variables fixed\n",
      "Cgl0004I processed model has 385 rows, 37055 columns (37055 integer (37055 of which binary)) and 110591 elements\n",
      "Coin3009W Conflict graph built in 0.310 seconds, density: 0.132%\n",
      "Cgl0015I Clique Strengthening extended 0 cliques, 0 were dominated\n",
      "Cbc0038I Initial state - 6 integers unsatisfied sum - 3\n",
      "Cbc0038I Pass   1: suminf.    0.00000 (0) obj. -0.431714 iterations 987\n",
      "Cbc0038I Solution found of -0.431714\n",
      "Cbc0038I Before mini branch and bound, 37046 integers at bound fixed and 0 continuous\n",
      "Cbc0038I Full problem 385 rows 37055 columns, reduced to 0 rows 0 columns\n",
      "Cbc0038I Mini branch and bound did not improve solution (3.72 seconds)\n",
      "Cbc0038I Round again with cutoff of -0.432283\n",
      "Cbc0038I Reduced cost fixing fixed 1795 variables on major pass 2\n",
      "Cbc0038I Pass   2: suminf.    1.04913 (15) obj. -0.432283 iterations 258\n",
      "Cbc0038I Pass   3: suminf.    0.71281 (9) obj. -0.432283 iterations 1336\n",
      "Cbc0038I Pass   4: suminf.    3.00000 (6) obj. -0.436501 iterations 7325\n",
      "Cbc0038I Pass   5: suminf.    3.00000 (6) obj. -0.436501 iterations 1232\n",
      "Cbc0038I Pass   6: suminf.    2.00000 (6) obj. -0.435106 iterations 2794\n",
      "Cbc0038I Pass   7: suminf.    2.00000 (23) obj. -0.432283 iterations 2937\n",
      "Cbc0038I Pass   8: suminf.    2.00000 (12) obj. -0.434356 iterations 414\n",
      "Cbc0038I Pass   9: suminf.    2.00000 (15) obj. -0.432283 iterations 3955\n",
      "Cbc0038I No solution found this major pass\n",
      "Cbc0038I After 7.29 seconds - Feasibility pump exiting with objective of -0.431714 - took 4.95 seconds\n",
      "Cbc0012I Integer solution of -0.43171449 found by feasibility pump after 0 iterations and 0 nodes (7.30 seconds)\n",
      "Cbc0031I 13 added rows had average density of 641.15385\n",
      "Cbc0013I At root node, 13 cuts changed objective from -0.4365011 to -0.43280901 in 11 passes\n",
      "Cbc0014I Cut generator 0 (Probing) - 0 row cuts average 0.0 elements, 24651 column cuts (24651 active)  in 0.475 seconds - new frequency is 1\n",
      "Cbc0014I Cut generator 1 (Gomory) - 2 row cuts average 820.0 elements, 0 column cuts (0 active)  in 0.017 seconds - new frequency is -100\n",
      "Cbc0014I Cut generator 2 (Knapsack) - 0 row cuts average 0.0 elements, 0 column cuts (0 active)  in 0.071 seconds - new frequency is -100\n",
      "Cbc0014I Cut generator 3 (Clique) - 0 row cuts average 0.0 elements, 0 column cuts (0 active)  in 0.003 seconds - new frequency is -100\n",
      "Cbc0014I Cut generator 4 (OddWheel) - 0 row cuts average 0.0 elements, 0 column cuts (0 active)  in 0.013 seconds - new frequency is -100\n",
      "Cbc0014I Cut generator 5 (MixedIntegerRounding2) - 0 row cuts average 0.0 elements, 0 column cuts (0 active)  in 0.036 seconds - new frequency is -100\n",
      "Cbc0014I Cut generator 6 (FlowCover) - 0 row cuts average 0.0 elements, 0 column cuts (0 active)  in 0.009 seconds - new frequency is -100\n",
      "Cbc0014I Cut generator 8 (ZeroHalf) - 14 row cuts average 631.5 elements, 0 column cuts (0 active)  in 0.041 seconds - new frequency is -100\n",
      "Cbc0012I Integer solution of -0.43192627 found by rounding after 1269 iterations and 1 nodes (9.66 seconds)\n",
      "Cbc0012I Integer solution of -0.43242345 found by DiveCoefficient after 1276 iterations and 2 nodes (9.83 seconds)\n",
      "Cbc0001I Search completed - best objective -0.4324234516, took 1301 iterations and 4 nodes (9.89 seconds)\n",
      "Cbc0032I Strong branching done 22 times (718 iterations), fathomed 0 nodes and fixed 0 variables\n",
      "Cbc0035I Maximum depth 1, 13462 variables fixed on reduced cost\n",
      "Cuts at root node changed objective from -0.436501 to -0.432646\n",
      "Probing was tried 14 times and created 24656 cuts of which 0 were active after adding rounds of cuts (0.484 seconds)\n",
      "Gomory was tried 11 times and created 2 cuts of which 0 were active after adding rounds of cuts (0.017 seconds)\n",
      "Knapsack was tried 11 times and created 0 cuts of which 0 were active after adding rounds of cuts (0.071 seconds)\n",
      "Clique was tried 11 times and created 0 cuts of which 0 were active after adding rounds of cuts (0.003 seconds)\n",
      "OddWheel was tried 11 times and created 0 cuts of which 0 were active after adding rounds of cuts (0.013 seconds)\n",
      "MixedIntegerRounding2 was tried 11 times and created 0 cuts of which 0 were active after adding rounds of cuts (0.036 seconds)\n",
      "FlowCover was tried 11 times and created 0 cuts of which 0 were active after adding rounds of cuts (0.009 seconds)\n",
      "TwoMirCuts was tried 1 times and created 0 cuts of which 0 were active after adding rounds of cuts (0.003 seconds)\n",
      "ZeroHalf was tried 11 times and created 14 cuts of which 0 were active after adding rounds of cuts (0.041 seconds)\n",
      "\n",
      "Result - Optimal solution found\n",
      "\n",
      "Objective value:                -0.43242345\n",
      "Enumerated nodes:               4\n",
      "Total iterations:               1301\n",
      "Time (CPU seconds):             9.95\n",
      "Time (Wallclock seconds):       9.95\n",
      "\n",
      "Total time (CPU seconds):       10.05   (Wallclock seconds):       10.05\n",
      "\n"
     ]
    }
   ],
   "source": [
    "# Future Idea\n",
    "def optimal_xT(xT_vals):\n",
    "    model = so.Model('optimal_flow')\n",
    "    indices = [(x,y) for x in range(w) for y in range(l)]\n",
    "    nodes = ['source'] + indices + ['sink']\n",
    "    \n",
    "    use = model.add_variables(indices, name='use', vartype=so.binary)\n",
    "    flow = model.add_variables(nodes, nodes, name='flow', vartype=so.binary)\n",
    "\n",
    "    model.add_constraint(flow['source',7,5] == 1, name='initial_node')\n",
    "    inflow = {(x,y): so.expr_sum(flow[i,j,x,y] for (i,j) in indices) + flow['source',x,y] for (x,y) in indices}\n",
    "    outflow = {(x,y): so.expr_sum(flow[x,y,i,j] for (i,j) in indices) + flow[x,y,'sink'] for (x,y) in indices}\n",
    "    model.add_constraints((inflow[x,y] == outflow[x,y] for (x,y) in indices), name='flow_balance')\n",
    "    model.add_constraints((use[x,y] == inflow[x,y] for (x,y) in indices), name='use_if_flow')\n",
    "    model.add_constraint(so.expr_sum(flow[x,y,'sink'] for (x,y) in indices) == 1, name='take_shot')\n",
    "    model.add_constraint(so.expr_sum(use[x,y] for (x,y) in indices) == 6, name='limit_moves')\n",
    "    model.add_constraints((flow[x,y,x,y] == 0 for (x,y) in indices), name='no_self_move')\n",
    "\n",
    "    ## Replace this with probability matrix!!\n",
    "    pass_ratings = so.expr_sum(T.loc[(x,y),(z,w)] * (xt_vals.iloc[z,w] - xt_vals.iloc[x,y]) * flow[x,y,z,w] for (x,y) in indices for (z,w) in indices)\n",
    "    shot_rating = so.expr_sum(shots.loc[x,y] * scores.loc[x,y] * flow[x,y,'sink'] for (x,y) in indices)\n",
    "    model.set_objective(-1* (shot_rating + pass_ratings), name='total_rating', sense='N')\n",
    "    model.export_mps(filename='export.mps')\n",
    "    command = 'cbc export.mps presolve off solve solu solution.txt'\n",
    "    !{command}\n",
    "\n",
    "xt_vals = table3.unstack()\n",
    "optimal_xT(xt_vals)"
   ]
  }
 ]
}
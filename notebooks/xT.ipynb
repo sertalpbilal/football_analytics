{
 "metadata": {
  "language_info": {
   "codemirror_mode": {
    "name": "ipython",
    "version": 3
   },
   "file_extension": ".py",
   "mimetype": "text/x-python",
   "name": "python",
   "nbconvert_exporter": "python",
   "pygments_lexer": "ipython3",
   "version": "3.7.1-final"
  },
  "orig_nbformat": 2,
  "kernelspec": {
   "name": "python3",
   "display_name": "Python 3.7.1 64-bit",
   "metadata": {
    "interpreter": {
     "hash": "cbc1630f6ac27d00c9f4ea5ff59d07a3d2920d2fb3e683b05679c37215caa53f"
    }
   }
  }
 },
 "nbformat": 4,
 "nbformat_minor": 2,
 "cells": [
  {
   "cell_type": "code",
   "execution_count": 1,
   "metadata": {},
   "outputs": [],
   "source": [
    "import sasoptpy as so\n",
    "import pandas as pd\n",
    "import os\n",
    "from math import sqrt\n",
    "import random"
   ]
  },
  {
   "cell_type": "code",
   "execution_count": 2,
   "metadata": {},
   "outputs": [],
   "source": [
    "w = 16\n",
    "l = 12\n",
    "df = pd.read_csv('../data/xt_pre_data.csv')\n",
    "df['xbin'] = pd.cut(df.start_x, w, labels=False)\n",
    "df['ybin'] = pd.cut(df.start_y, l, labels=False)\n",
    "df['xbin_to'] = pd.cut(df.end_x, w, labels=False)\n",
    "df['ybin_to'] = pd.cut(df.end_y, l, labels=False)"
   ]
  },
  {
   "cell_type": "code",
   "execution_count": 3,
   "metadata": {},
   "outputs": [],
   "source": [
    "def get_matrix(values, xbins, ybins):\n",
    "    indices = [(x,y) for x in range(xbins) for y in range(ybins)]\n",
    "    x_cuts = values['xbin']\n",
    "    y_cuts = values['ybin']\n",
    "    bins = values.groupby([x_cuts, y_cuts]).size()\n",
    "    return bins.reindex(indices, fill_value=0).unstack().fillna(0)\n",
    "\n",
    "def get_transition_matrix(values, xbins, ybins):\n",
    "    indices = [(x1,y1,x2,y2) for x1 in range(xbins) for y1 in range(ybins) for x2 in range(xbins) for y2 in range(ybins)]\n",
    "    x_from = values['xbin']\n",
    "    y_from = values['ybin']\n",
    "    x_to = values['xbin_to']\n",
    "    y_to = values['ybin_to']\n",
    "    valid_occurences = values[values['result_name'] == 'success'].copy()\n",
    "    occurence = values.groupby([x_from, y_from, x_to, y_to]).size()\n",
    "    successful = valid_occurences.groupby([x_from, y_from, x_to, y_to]).size()\n",
    "    occurence_2d = occurence.reindex(indices).unstack([2,3], fill_value=0).fillna(0)\n",
    "    successful_2d = successful.reindex(indices).unstack([2,3], fill_value=0).fillna(0)\n",
    "    # Only successful attempts?\n",
    "    return successful_2d.div(occurence_2d.sum(axis=1), axis=0)"
   ]
  },
  {
   "cell_type": "code",
   "execution_count": 4,
   "metadata": {},
   "outputs": [],
   "source": [
    "shots_df = get_matrix(df[df['type_name']=='shot'], w, l)\n",
    "goals_df = get_matrix(df[(df['type_name']=='shot') & (df['result_name'] == 'success')], w, l)\n",
    "moves_df = get_matrix(df[df['type_name'].isin(['dribble', 'pass', 'cross'])], w, l)\n",
    "total_df = moves_df + shots_df\n",
    "\n",
    "moves = moves_df / total_df\n",
    "shots = shots_df / total_df\n",
    "scores = (goals_df / shots_df).fillna(0)\n",
    "T = get_transition_matrix(df[df['type_name'].isin(['dribble', 'pass', 'cross'])], w, l)"
   ]
  },
  {
   "cell_type": "code",
   "execution_count": 5,
   "metadata": {},
   "outputs": [],
   "source": [
    "def base_model():\n",
    "    model = so.Model(name='xThreatModel', session=None)\n",
    "    indices = [(x,y) for x in range(w) for y in range(l)]\n",
    "    xT = model.add_variables(indices, name='xT')\n",
    "    model.add_constraints(\n",
    "        (xT[x,y] == shots.loc[x,y] * scores.loc[x,y] + moves.loc[x,y] * so.expr_sum(T.loc[(x,y),(z,w)] * xT[z,w] for (z,w) in indices) for (x,y) in indices), name='relation')\n",
    "    model.set_objective(0, name='zero', sense='N')\n",
    "    model.export_mps(filename='export.mps')\n",
    "    command = 'cbc export.mps solve solu solution.txt'\n",
    "    # !{command}\n",
    "    os.system(command)\n",
    "    for v in model.get_variables():\n",
    "        v.set_value(0)\n",
    "    with open('solution.txt', 'r') as f:\n",
    "        for line in f:\n",
    "            if 'objective value' in line:\n",
    "                continue\n",
    "            words = line.split()\n",
    "            model.get_variable(words[1]).set_value(float(words[2]))\n",
    "    return model"
   ]
  },
  {
   "cell_type": "code",
   "execution_count": 6,
   "metadata": {},
   "outputs": [
    {
     "output_type": "stream",
     "name": "stdout",
     "text": [
      "NOTE: Initialized model xThreatModel.\n"
     ]
    }
   ],
   "source": [
    "m1 = base_model()"
   ]
  },
  {
   "cell_type": "code",
   "execution_count": 7,
   "metadata": {},
   "outputs": [
    {
     "output_type": "execute_result",
     "data": {
      "text/plain": [
       "                xT\n",
       "(0, 0)    0.001014\n",
       "(0, 1)    0.001490\n",
       "(0, 2)    0.001763\n",
       "(0, 3)    0.002306\n",
       "(0, 4)    0.002635\n",
       "...            ...\n",
       "(15, 7)   0.098388\n",
       "(15, 8)   0.029122\n",
       "(15, 9)   0.026838\n",
       "(15, 10)  0.025522\n",
       "(15, 11)  0.023181\n",
       "\n",
       "[192 rows x 1 columns]"
      ],
      "text/html": "<div>\n<style scoped>\n    .dataframe tbody tr th:only-of-type {\n        vertical-align: middle;\n    }\n\n    .dataframe tbody tr th {\n        vertical-align: top;\n    }\n\n    .dataframe thead th {\n        text-align: right;\n    }\n</style>\n<table border=\"1\" class=\"dataframe\">\n  <thead>\n    <tr style=\"text-align: right;\">\n      <th></th>\n      <th>xT</th>\n    </tr>\n  </thead>\n  <tbody>\n    <tr>\n      <th>(0, 0)</th>\n      <td>0.001014</td>\n    </tr>\n    <tr>\n      <th>(0, 1)</th>\n      <td>0.001490</td>\n    </tr>\n    <tr>\n      <th>(0, 2)</th>\n      <td>0.001763</td>\n    </tr>\n    <tr>\n      <th>(0, 3)</th>\n      <td>0.002306</td>\n    </tr>\n    <tr>\n      <th>(0, 4)</th>\n      <td>0.002635</td>\n    </tr>\n    <tr>\n      <th>...</th>\n      <td>...</td>\n    </tr>\n    <tr>\n      <th>(15, 7)</th>\n      <td>0.098388</td>\n    </tr>\n    <tr>\n      <th>(15, 8)</th>\n      <td>0.029122</td>\n    </tr>\n    <tr>\n      <th>(15, 9)</th>\n      <td>0.026838</td>\n    </tr>\n    <tr>\n      <th>(15, 10)</th>\n      <td>0.025522</td>\n    </tr>\n    <tr>\n      <th>(15, 11)</th>\n      <td>0.023181</td>\n    </tr>\n  </tbody>\n</table>\n<p>192 rows × 1 columns</p>\n</div>"
     },
     "metadata": {},
     "execution_count": 7
    }
   ],
   "source": [
    "xT1 = m1.get_variable('xT')\n",
    "so.get_solution_table(xT1)"
   ]
  },
  {
   "cell_type": "code",
   "execution_count": 8,
   "metadata": {},
   "outputs": [
    {
     "output_type": "stream",
     "name": "stdout",
     "text": [
      "0.014957486 0.020520949\n"
     ]
    }
   ],
   "source": [
    "print(xT1[11,0].get_value(),xT1[11,7].get_value())"
   ]
  },
  {
   "cell_type": "code",
   "execution_count": 9,
   "metadata": {},
   "outputs": [
    {
     "output_type": "stream",
     "name": "stdout",
     "text": [
      "0.020823058 0.019536792\n"
     ]
    }
   ],
   "source": [
    "print(xT1[11,3].get_value(),xT1[11,4].get_value())"
   ]
  },
  {
   "cell_type": "code",
   "execution_count": 10,
   "metadata": {},
   "outputs": [],
   "source": [
    "def symmetric_model():\n",
    "    model = so.Model(name='xThreatModel_sym', session=None)\n",
    "    indices = [(x,y) for x in range(w) for y in range(l)]\n",
    "    xT = model.add_variables(indices, name='xT')\n",
    "    err = model.add_variables(indices, name='error')\n",
    "    err_abs = model.add_variables(indices, name='error_abs', lb=0)\n",
    "    model.add_constraints(\n",
    "        (xT[x,y] + err[x,y] == shots.loc[x,y] * scores.loc[x,y] + moves.loc[x,y] * so.expr_sum(T.loc[(x,y),(z,w)] * xT[z,w] for (z,w) in indices) for (x,y) in indices), name='relation')\n",
    "    model.add_constraints(\n",
    "        (err_abs[x,y] >= err[x,y] for (x,y) in indices), name='abs_values1')\n",
    "    model.add_constraints(\n",
    "        (err_abs[x,y] >= -err[x,y] for (x,y) in indices), name='abs_values2')\n",
    "    model.add_constraints(\n",
    "        (xT[x,y] == xT[x, l-y-1] for (x,y) in indices), name='symm_con')\n",
    "    model.add_constraint(so.expr_sum(err[x,y] for (x,y) in indices) == 0, name='zero_error_total')\n",
    "    sum_err_abs = so.expr_sum(err_abs[x,y] for (x,y) in indices)\n",
    "    model.set_objective(sum_err_abs, name='total_error', sense='N')\n",
    "    model.export_mps(filename='export.mps')\n",
    "    command = 'cbc export.mps solve solu solution.txt'\n",
    "    !{command}\n",
    "    # os.system(command)\n",
    "    for v in model.get_variables():\n",
    "        v.set_value(0)\n",
    "    with open('solution.txt', 'r') as f:\n",
    "        for line in f:\n",
    "            if 'objective value' in line:\n",
    "                continue\n",
    "            words = line.split()\n",
    "            model.get_variable(words[1]).set_value(float(words[2]))\n",
    "    return model"
   ]
  },
  {
   "cell_type": "code",
   "execution_count": 11,
   "metadata": {},
   "outputs": [
    {
     "output_type": "stream",
     "name": "stdout",
     "text": [
      "NOTE: Initialized model xThreatModel_sym.\n",
      "Welcome to the CBC MILP Solver \n",
      "Version: devel \n",
      "Build Date: Nov 25 2020 \n",
      "\n",
      "command line - cbc export.mps solve solu solution.txt (default strategy 1)\n",
      "At line 1 NAME     xThreatModel_sym\n",
      "At line 2 ROWS\n",
      "At line 773 COLUMNS\n",
      "At line 9535 RHS\n",
      "At line 9551 RANGES\n",
      "At line 9552 BOUNDS\n",
      "At line 9937 ENDATA\n",
      "Problem xThreatModel_sym has 769 rows, 576 columns and 17032 elements\n",
      "Coin0008I xThreatModel_sym read with 0 errors\n",
      "Presolve 577 (-192) rows, 480 (-96) columns and 11406 (-5626) elements\n",
      "Perturbing problem by 0.001% of 67.409968 - largest nonzero change 0.00042036491 ( 0.00062359458%) - largest zero change 0\n",
      "Optimal - objective value 0.14635766\n",
      "After Postsolve, objective 0.14635766, infeasibilities - dual 0 (0), primal 0 (0)\n",
      "Optimal objective 0.1463576561 - 784 iterations time 0.052, Presolve 0.00\n",
      "Total time (CPU seconds):       0.08   (Wallclock seconds):       0.08\n",
      "\n"
     ]
    }
   ],
   "source": [
    "m2 = symmetric_model()"
   ]
  },
  {
   "cell_type": "code",
   "execution_count": 12,
   "metadata": {},
   "outputs": [
    {
     "output_type": "execute_result",
     "data": {
      "text/plain": [
       "                xT\n",
       "(0, 0)    0.001054\n",
       "(0, 1)    0.001548\n",
       "(0, 2)    0.002040\n",
       "(0, 3)    0.002368\n",
       "(0, 4)    0.002664\n",
       "...            ...\n",
       "(15, 7)   0.096434\n",
       "(15, 8)   0.039402\n",
       "(15, 9)   0.030494\n",
       "(15, 10)  0.025734\n",
       "(15, 11)  0.023150\n",
       "\n",
       "[192 rows x 1 columns]"
      ],
      "text/html": "<div>\n<style scoped>\n    .dataframe tbody tr th:only-of-type {\n        vertical-align: middle;\n    }\n\n    .dataframe tbody tr th {\n        vertical-align: top;\n    }\n\n    .dataframe thead th {\n        text-align: right;\n    }\n</style>\n<table border=\"1\" class=\"dataframe\">\n  <thead>\n    <tr style=\"text-align: right;\">\n      <th></th>\n      <th>xT</th>\n    </tr>\n  </thead>\n  <tbody>\n    <tr>\n      <th>(0, 0)</th>\n      <td>0.001054</td>\n    </tr>\n    <tr>\n      <th>(0, 1)</th>\n      <td>0.001548</td>\n    </tr>\n    <tr>\n      <th>(0, 2)</th>\n      <td>0.002040</td>\n    </tr>\n    <tr>\n      <th>(0, 3)</th>\n      <td>0.002368</td>\n    </tr>\n    <tr>\n      <th>(0, 4)</th>\n      <td>0.002664</td>\n    </tr>\n    <tr>\n      <th>...</th>\n      <td>...</td>\n    </tr>\n    <tr>\n      <th>(15, 7)</th>\n      <td>0.096434</td>\n    </tr>\n    <tr>\n      <th>(15, 8)</th>\n      <td>0.039402</td>\n    </tr>\n    <tr>\n      <th>(15, 9)</th>\n      <td>0.030494</td>\n    </tr>\n    <tr>\n      <th>(15, 10)</th>\n      <td>0.025734</td>\n    </tr>\n    <tr>\n      <th>(15, 11)</th>\n      <td>0.023150</td>\n    </tr>\n  </tbody>\n</table>\n<p>192 rows × 1 columns</p>\n</div>"
     },
     "metadata": {},
     "execution_count": 12
    }
   ],
   "source": [
    "xT2 = m2.get_variable('xT')\n",
    "e2 = m2.get_variable('error')\n",
    "so.get_solution_table(xT2)"
   ]
  },
  {
   "cell_type": "code",
   "execution_count": 13,
   "metadata": {},
   "outputs": [
    {
     "output_type": "stream",
     "name": "stdout",
     "text": [
      "0.014837734 0.020427876\n"
     ]
    }
   ],
   "source": [
    "print(xT2[11,0].get_value(),xT2[11,7].get_value())"
   ]
  },
  {
   "cell_type": "code",
   "execution_count": 14,
   "metadata": {},
   "outputs": [
    {
     "output_type": "stream",
     "name": "stdout",
     "text": [
      "0.019836772 0.020427876\n"
     ]
    }
   ],
   "source": [
    "print(xT2[11,3].get_value(),xT2[11,4].get_value())"
   ]
  },
  {
   "cell_type": "code",
   "execution_count": 15,
   "metadata": {},
   "outputs": [],
   "source": [
    "def dist(c1, c2):\n",
    "    return sqrt((c1-(w-1))**2 + (c2-(l-1)/2)**2)\n",
    "\n",
    "def sym_incremental_model():\n",
    "    model = so.Model(name='xThreatModel_sym_inc', session=None)\n",
    "    indices = [(x,y) for x in range(w) for y in range(l)]\n",
    "    xT = model.add_variables(indices, name='xT')\n",
    "    err = model.add_variables(indices, name='error')\n",
    "    err_abs = model.add_variables(indices, name='error_abs', lb=0)\n",
    "    model.add_constraints(\n",
    "        (xT[x,y] + err[x,y] == shots.loc[x,y] * scores.loc[x,y] + moves.loc[x,y] * so.expr_sum(T.loc[(x,y),(z,w)] * xT[z,w] for (z,w) in indices) for (x,y) in indices), name='relation')\n",
    "    model.add_constraints(\n",
    "        (err_abs[x,y] >= err[x,y] for (x,y) in indices), name='abs_values1')\n",
    "    model.add_constraints(\n",
    "        (err_abs[x,y] >= -err[x,y] for (x,y) in indices), name='abs_values2')\n",
    "    model.add_constraints(\n",
    "        (xT[x,y] == xT[x, l-y-1] for (x,y) in indices), name='symm_con')\n",
    "    model.add_constraint(so.expr_sum(err[x,y] for (x,y) in indices) == 0, name='zero_error_total')\n",
    "    model.add_constraints(\n",
    "        (xT[x,y] >= xT[z, w] for (x,y) in indices for (z,w) in indices if dist(x,y) < dist(z,w) and x==z), name='same_row')\n",
    "    model.add_constraints(\n",
    "        (xT[x,y] >= xT[z, w] for (x,y) in indices for (z,w) in indices if dist(x,y) < dist(z,w) and y==w), name='same_col')\n",
    "    sum_err_abs = so.expr_sum(err_abs[x,y] for (x,y) in indices)\n",
    "    model.set_objective(sum_err_abs, name='total_error', sense='N')\n",
    "    model.export_mps(filename='export.mps')\n",
    "    command = 'cbc export.mps presolve off solve solu solution.txt'\n",
    "    !{command}\n",
    "    #os.system(command)\n",
    "    for v in model.get_variables():\n",
    "        v.set_value(0)\n",
    "    with open('solution.txt', 'r') as f:\n",
    "        for line in f:\n",
    "            if 'objective value' in line:\n",
    "                continue\n",
    "            words = line.split()\n",
    "            model.get_variable(words[1]).set_value(float(words[2]))\n",
    "    return model"
   ]
  },
  {
   "cell_type": "code",
   "execution_count": 16,
   "metadata": {},
   "outputs": [
    {
     "output_type": "stream",
     "name": "stdout",
     "text": [
      "NOTE: Initialized model xThreatModel_sym_inc.\n",
      "Welcome to the CBC MILP Solver \n",
      "Version: devel \n",
      "Build Date: Nov 25 2020 \n",
      "\n",
      "command line - cbc export.mps presolve off solve solu solution.txt (default strategy 1)\n",
      "At line 1 NAME     xThreatModel_sym_inc\n",
      "At line 2 ROWS\n",
      "At line 3173 COLUMNS\n",
      "At line 14325 RHS\n",
      "At line 14341 RANGES\n",
      "At line 14342 BOUNDS\n",
      "At line 14727 ENDATA\n",
      "Problem xThreatModel_sym_inc has 3169 rows, 576 columns and 21832 elements\n",
      "Coin0008I xThreatModel_sym_inc read with 0 errors\n",
      "Option for presolve changed from on to off\n",
      "Perturbing problem by 0.001% of 68.680282 - largest nonzero change 0.00042734516 ( 0.00062222395%) - largest zero change 0\n",
      "Optimal - objective value 0.15490441\n",
      "Optimal objective 0.1549044117 - 2770 iterations time 0.362\n",
      "Total time (CPU seconds):       0.40   (Wallclock seconds):       0.40\n",
      "\n"
     ]
    }
   ],
   "source": [
    "m3 = sym_incremental_model()"
   ]
  },
  {
   "cell_type": "code",
   "execution_count": 17,
   "metadata": {},
   "outputs": [
    {
     "output_type": "stream",
     "name": "stdout",
     "text": [
      "0 0.013798014\n1 0.015327688\n2 0.01666621\n3 0.018234825\n4 0.01826423\n5 0.01826423\n6 0.01826423\n7 0.01826423\n8 0.018234825\n9 0.01666621\n10 0.015327688\n11 0.013798014\n"
     ]
    }
   ],
   "source": [
    "xT3 = m3.get_variable('xT')\n",
    "e3 = m3.get_variable('error')\n",
    "so.get_solution_table(xT3)\n",
    "for y in range(l):\n",
    "    print(y, xT3[11,y].get_value())"
   ]
  },
  {
   "cell_type": "code",
   "execution_count": 18,
   "metadata": {},
   "outputs": [
    {
     "output_type": "stream",
     "name": "stdout",
     "text": [
      "                xT        xT        xT\n(0, 0)    0.001014  0.001054  0.000969\n(0, 1)    0.001490  0.001548  0.001424\n(0, 2)    0.001763  0.002040  0.001876\n(0, 3)    0.002306  0.002368  0.002176\n(0, 4)    0.002635  0.002664  0.002453\n(0, 5)    0.002820  0.002863  0.002633\n(0, 6)    0.002849  0.002863  0.002633\n(0, 7)    0.002617  0.002664  0.002453\n(0, 8)    0.002218  0.002368  0.002176\n(0, 9)    0.002071  0.002040  0.001876\n(0, 10)   0.001530  0.001548  0.001424\n(0, 11)   0.001029  0.001054  0.000969\n(1, 0)    0.001516  0.001668  0.001537\n(1, 1)    0.001929  0.002151  0.001979\n(1, 2)    0.002535  0.002759  0.002537\n(1, 3)    0.003046  0.003110  0.002863\n(1, 4)    0.003250  0.003285  0.003020\n(1, 5)    0.003448  0.003459  0.003183\n(1, 6)    0.003396  0.003459  0.003183\n(1, 7)    0.003206  0.003285  0.003020\n(1, 8)    0.003132  0.003110  0.002863\n(1, 9)    0.002810  0.002759  0.002537\n(1, 10)   0.002191  0.002151  0.001979\n(1, 11)   0.001708  0.001668  0.001537\n(2, 0)    0.002118  0.002189  0.002016\n(2, 1)    0.002515  0.002764  0.002543\n(2, 2)    0.003022  0.003220  0.002963\n(2, 3)    0.003533  0.003582  0.003292\n(2, 4)    0.003989  0.003982  0.003640\n(2, 5)    0.003856  0.003960  0.003640\n(2, 6)    0.003981  0.003960  0.003640\n(2, 7)    0.003554  0.003982  0.003640\n(2, 8)    0.003530  0.003582  0.003292\n(2, 9)    0.003280  0.003220  0.002963\n(2, 10)   0.002824  0.002764  0.002543\n(2, 11)   0.002113  0.002189  0.002016\n(3, 0)    0.002609  0.002817  0.002592\n(3, 1)    0.003106  0.003293  0.003027\n(3, 2)    0.003550  0.003603  0.003312\n(3, 3)    0.003784  0.003816  0.003510\n(3, 4)    0.003988  0.004085  0.003755\n(3, 5)    0.004109  0.004279  0.003862\n(3, 6)    0.004312  0.004279  0.003862\n(3, 7)    0.004145  0.004085  0.003755\n(3, 8)    0.004042  0.003816  0.003510\n(3, 9)    0.003844  0.003603  0.003312\n(3, 10)   0.003387  0.003293  0.003027\n(3, 11)   0.002898  0.002817  0.002592\n(4, 0)    0.003312  0.003443  0.003166\n(4, 1)    0.003830  0.004047  0.003723\n(4, 2)    0.004217  0.004287  0.003944\n(4, 3)    0.004627  0.004652  0.004279\n(4, 4)    0.004779  0.004863  0.004477\n(4, 5)    0.005046  0.004991  0.004601\n(4, 6)    0.005014  0.004991  0.004601\n(4, 7)    0.004955  0.004863  0.004477\n(4, 8)    0.004772  0.004652  0.004279\n(4, 9)    0.004418  0.004287  0.003944\n(4, 10)   0.004180  0.004047  0.003723\n(4, 11)   0.003562  0.003443  0.003166\n(5, 0)    0.004090  0.004101  0.003771\n(5, 1)    0.004558  0.004732  0.004353\n(5, 2)    0.005050  0.005048  0.004647\n(5, 3)    0.005586  0.005559  0.005118\n(5, 4)    0.005739  0.005834  0.005382\n(5, 5)    0.006026  0.005934  0.005479\n(5, 6)    0.005933  0.005934  0.005479\n(5, 7)    0.005974  0.005834  0.005382\n(5, 8)    0.005721  0.005559  0.005118\n(5, 9)    0.005403  0.005048  0.004647\n(5, 10)   0.004915  0.004732  0.004353\n(5, 11)   0.004259  0.004101  0.003771\n(6, 0)    0.005004  0.005111  0.004618\n(6, 1)    0.005738  0.005818  0.005365\n(6, 2)    0.006364  0.006319  0.005830\n(6, 3)    0.006593  0.006524  0.006014\n(6, 4)    0.006999  0.007007  0.006365\n(6, 5)    0.007403  0.007253  0.006723\n(6, 6)    0.007255  0.007253  0.006723\n(6, 7)    0.007194  0.007007  0.006365\n(6, 8)    0.007000  0.006524  0.006014\n(6, 9)    0.006612  0.006319  0.005830\n(6, 10)   0.006056  0.005818  0.005365\n(6, 11)   0.005323  0.005111  0.004618\n(7, 0)    0.006172  0.006150  0.005670\n(7, 1)    0.007192  0.007139  0.006588\n(7, 2)    0.007522  0.007442  0.006876\n(7, 3)    0.008364  0.008193  0.007564\n(7, 4)    0.008476  0.008446  0.007625\n(7, 5)    0.008075  0.007927  0.007625\n(7, 6)    0.008413  0.007927  0.007625\n(7, 7)    0.008668  0.008446  0.007625\n(7, 8)    0.008439  0.008193  0.007564\n(7, 9)    0.008145  0.007442  0.006876\n(7, 10)   0.007473  0.007139  0.006588\n(7, 11)   0.006588  0.006150  0.005670\n(8, 0)    0.007615  0.007569  0.006990\n(8, 1)    0.008621  0.008457  0.007812\n(8, 2)    0.009121  0.009017  0.008330\n(8, 3)    0.009596  0.009481  0.008757\n(8, 4)    0.010310  0.009870  0.009137\n(8, 5)    0.010009  0.009873  0.009339\n(8, 6)    0.010251  0.009873  0.009339\n(8, 7)    0.010072  0.009870  0.009137\n(8, 8)    0.009827  0.009481  0.008757\n(8, 9)    0.009449  0.009017  0.008330\n(8, 10)   0.008771  0.008457  0.007812\n(8, 11)   0.007905  0.007569  0.006990\n(9, 0)    0.009165  0.009087  0.008406\n(9, 1)    0.010392  0.010268  0.009490\n(9, 2)    0.011123  0.011014  0.010189\n(9, 3)    0.011533  0.011560  0.010565\n(9, 4)    0.012054  0.011959  0.011028\n(9, 5)    0.012394  0.012579  0.011626\n(9, 6)    0.012648  0.012579  0.011626\n(9, 7)    0.011819  0.011959  0.011028\n(9, 8)    0.011759  0.011560  0.010565\n(9, 9)    0.011309  0.011014  0.010189\n(9, 10)   0.010548  0.010268  0.009490\n(9, 11)   0.009656  0.009087  0.008406\n(10, 0)   0.011689  0.011584  0.010730\n(10, 1)   0.012981  0.012884  0.011922\n(10, 2)   0.014026  0.013905  0.012843\n(10, 3)   0.015221  0.014928  0.013764\n(10, 4)   0.015066  0.015099  0.013841\n(10, 5)   0.014949  0.015014  0.013841\n(10, 6)   0.015160  0.015014  0.013841\n(10, 7)   0.015216  0.015099  0.013841\n(10, 8)   0.015066  0.014928  0.013764\n(10, 9)   0.014427  0.013905  0.012843\n(10, 10)  0.013224  0.012884  0.011922\n(10, 11)  0.012247  0.011584  0.010730\n(11, 0)   0.014957  0.014838  0.013798\n(11, 1)   0.016692  0.016533  0.015328\n(11, 2)   0.018087  0.017988  0.016666\n(11, 3)   0.020823  0.019837  0.018235\n(11, 4)   0.019537  0.020428  0.018264\n(11, 5)   0.019821  0.019775  0.018264\n(11, 6)   0.021144  0.019775  0.018264\n(11, 7)   0.020521  0.020428  0.018264\n(11, 8)   0.019864  0.019837  0.018235\n(11, 9)   0.018670  0.017988  0.016666\n(11, 10)  0.016773  0.016533  0.015328\n(11, 11)  0.015053  0.014838  0.013798\n(12, 0)   0.017677  0.017763  0.016384\n(12, 1)   0.021262  0.020589  0.019140\n(12, 2)   0.024567  0.023043  0.021415\n(12, 3)   0.025055  0.025694  0.023565\n(12, 4)   0.029322  0.029827  0.027896\n(12, 5)   0.036462  0.036313  0.034470\n(12, 6)   0.036160  0.036313  0.034470\n(12, 7)   0.030363  0.029827  0.027896\n(12, 8)   0.025601  0.025694  0.023565\n(12, 9)   0.022498  0.023043  0.021415\n(12, 10)  0.020370  0.020589  0.019140\n(12, 11)  0.017643  0.017763  0.016384\n(13, 0)   0.018394  0.018362  0.017240\n(13, 1)   0.024580  0.023646  0.022192\n(13, 2)   0.028702  0.028983  0.024795\n(13, 3)   0.035149  0.038413  0.033800\n(13, 4)   0.070550  0.071210  0.065061\n(13, 5)   0.077001  0.084849  0.075474\n(13, 6)   0.084869  0.084849  0.075474\n(13, 7)   0.068978  0.071210  0.065061\n(13, 8)   0.038418  0.038413  0.033800\n(13, 9)   0.026263  0.028983  0.024795\n(13, 10)  0.022982  0.023646  0.022192\n(13, 11)  0.019895  0.018362  0.017240\n(14, 0)   0.018630  0.018912  0.017945\n(14, 1)   0.023152  0.023089  0.022192\n(14, 2)   0.033817  0.033991  0.030232\n(14, 3)   0.043171  0.049987  0.040207\n(14, 4)   0.099819  0.100121  0.098406\n(14, 5)   0.190227  0.190592  0.185911\n(14, 6)   0.187113  0.190592  0.185911\n(14, 7)   0.131806  0.100121  0.098406\n(14, 8)   0.050468  0.049987  0.040207\n(14, 9)   0.028164  0.033991  0.030232\n(14, 10)  0.020692  0.023089  0.022192\n(14, 11)  0.018745  0.018912  0.017945\n(15, 0)   0.018813  0.023150  0.022745\n(15, 1)   0.025382  0.025734  0.025313\n(15, 2)   0.030980  0.030494  0.030232\n(15, 3)   0.039593  0.039402  0.040207\n(15, 4)   0.091523  0.096434  0.098406\n(15, 5)   0.382598  0.394944  0.429171\n(15, 6)   0.428257  0.394944  0.429171\n(15, 7)   0.098388  0.096434  0.098406\n(15, 8)   0.029122  0.039402  0.040207\n(15, 9)   0.026838  0.030494  0.030232\n(15, 10)  0.025522  0.025734  0.025313\n(15, 11)  0.023181  0.023150  0.022745\n"
     ]
    }
   ],
   "source": [
    "with pd.option_context('display.max_rows', None):\n",
    "    print(so.get_solution_table(xT1, xT2, xT3))"
   ]
  },
  {
   "cell_type": "code",
   "execution_count": 19,
   "metadata": {},
   "outputs": [
    {
     "output_type": "execute_result",
     "data": {
      "text/plain": [
       "             0         1         2         3         4         5         6   \\\n",
       "xT 0   0.001014  0.001516  0.002118  0.002609  0.003312  0.004090  0.005004   \n",
       "   1   0.001490  0.001929  0.002515  0.003106  0.003830  0.004558  0.005738   \n",
       "   2   0.001763  0.002535  0.003022  0.003550  0.004217  0.005050  0.006364   \n",
       "   3   0.002306  0.003046  0.003533  0.003784  0.004627  0.005586  0.006593   \n",
       "   4   0.002635  0.003250  0.003989  0.003988  0.004779  0.005739  0.006999   \n",
       "   5   0.002820  0.003448  0.003856  0.004109  0.005046  0.006026  0.007403   \n",
       "   6   0.002849  0.003396  0.003981  0.004312  0.005014  0.005933  0.007255   \n",
       "   7   0.002617  0.003206  0.003554  0.004145  0.004955  0.005974  0.007194   \n",
       "   8   0.002218  0.003132  0.003530  0.004042  0.004772  0.005721  0.007000   \n",
       "   9   0.002071  0.002810  0.003280  0.003844  0.004418  0.005403  0.006612   \n",
       "   10  0.001530  0.002191  0.002824  0.003387  0.004180  0.004915  0.006056   \n",
       "   11  0.001029  0.001708  0.002113  0.002898  0.003562  0.004259  0.005323   \n",
       "\n",
       "             7         8         9         10        11        12        13  \\\n",
       "xT 0   0.006172  0.007615  0.009165  0.011689  0.014957  0.017677  0.018394   \n",
       "   1   0.007192  0.008621  0.010392  0.012981  0.016692  0.021262  0.024580   \n",
       "   2   0.007522  0.009121  0.011123  0.014026  0.018087  0.024567  0.028702   \n",
       "   3   0.008364  0.009596  0.011533  0.015221  0.020823  0.025055  0.035149   \n",
       "   4   0.008476  0.010310  0.012054  0.015066  0.019537  0.029322  0.070550   \n",
       "   5   0.008075  0.010009  0.012394  0.014949  0.019821  0.036462  0.077001   \n",
       "   6   0.008413  0.010251  0.012648  0.015160  0.021144  0.036160  0.084869   \n",
       "   7   0.008668  0.010072  0.011819  0.015216  0.020521  0.030363  0.068978   \n",
       "   8   0.008439  0.009827  0.011759  0.015066  0.019864  0.025601  0.038418   \n",
       "   9   0.008145  0.009449  0.011309  0.014427  0.018670  0.022498  0.026263   \n",
       "   10  0.007473  0.008771  0.010548  0.013224  0.016773  0.020370  0.022982   \n",
       "   11  0.006588  0.007905  0.009656  0.012247  0.015053  0.017643  0.019895   \n",
       "\n",
       "             14        15  \n",
       "xT 0   0.018630  0.018813  \n",
       "   1   0.023152  0.025382  \n",
       "   2   0.033817  0.030980  \n",
       "   3   0.043171  0.039593  \n",
       "   4   0.099819  0.091523  \n",
       "   5   0.190227  0.382598  \n",
       "   6   0.187113  0.428257  \n",
       "   7   0.131806  0.098388  \n",
       "   8   0.050468  0.029122  \n",
       "   9   0.028164  0.026838  \n",
       "   10  0.020692  0.025522  \n",
       "   11  0.018745  0.023181  "
      ],
      "text/html": "<div>\n<style scoped>\n    .dataframe tbody tr th:only-of-type {\n        vertical-align: middle;\n    }\n\n    .dataframe tbody tr th {\n        vertical-align: top;\n    }\n\n    .dataframe thead th {\n        text-align: right;\n    }\n</style>\n<table border=\"1\" class=\"dataframe\">\n  <thead>\n    <tr style=\"text-align: right;\">\n      <th></th>\n      <th></th>\n      <th>0</th>\n      <th>1</th>\n      <th>2</th>\n      <th>3</th>\n      <th>4</th>\n      <th>5</th>\n      <th>6</th>\n      <th>7</th>\n      <th>8</th>\n      <th>9</th>\n      <th>10</th>\n      <th>11</th>\n      <th>12</th>\n      <th>13</th>\n      <th>14</th>\n      <th>15</th>\n    </tr>\n  </thead>\n  <tbody>\n    <tr>\n      <th rowspan=\"12\" valign=\"top\">xT</th>\n      <th>0</th>\n      <td>0.001014</td>\n      <td>0.001516</td>\n      <td>0.002118</td>\n      <td>0.002609</td>\n      <td>0.003312</td>\n      <td>0.004090</td>\n      <td>0.005004</td>\n      <td>0.006172</td>\n      <td>0.007615</td>\n      <td>0.009165</td>\n      <td>0.011689</td>\n      <td>0.014957</td>\n      <td>0.017677</td>\n      <td>0.018394</td>\n      <td>0.018630</td>\n      <td>0.018813</td>\n    </tr>\n    <tr>\n      <th>1</th>\n      <td>0.001490</td>\n      <td>0.001929</td>\n      <td>0.002515</td>\n      <td>0.003106</td>\n      <td>0.003830</td>\n      <td>0.004558</td>\n      <td>0.005738</td>\n      <td>0.007192</td>\n      <td>0.008621</td>\n      <td>0.010392</td>\n      <td>0.012981</td>\n      <td>0.016692</td>\n      <td>0.021262</td>\n      <td>0.024580</td>\n      <td>0.023152</td>\n      <td>0.025382</td>\n    </tr>\n    <tr>\n      <th>2</th>\n      <td>0.001763</td>\n      <td>0.002535</td>\n      <td>0.003022</td>\n      <td>0.003550</td>\n      <td>0.004217</td>\n      <td>0.005050</td>\n      <td>0.006364</td>\n      <td>0.007522</td>\n      <td>0.009121</td>\n      <td>0.011123</td>\n      <td>0.014026</td>\n      <td>0.018087</td>\n      <td>0.024567</td>\n      <td>0.028702</td>\n      <td>0.033817</td>\n      <td>0.030980</td>\n    </tr>\n    <tr>\n      <th>3</th>\n      <td>0.002306</td>\n      <td>0.003046</td>\n      <td>0.003533</td>\n      <td>0.003784</td>\n      <td>0.004627</td>\n      <td>0.005586</td>\n      <td>0.006593</td>\n      <td>0.008364</td>\n      <td>0.009596</td>\n      <td>0.011533</td>\n      <td>0.015221</td>\n      <td>0.020823</td>\n      <td>0.025055</td>\n      <td>0.035149</td>\n      <td>0.043171</td>\n      <td>0.039593</td>\n    </tr>\n    <tr>\n      <th>4</th>\n      <td>0.002635</td>\n      <td>0.003250</td>\n      <td>0.003989</td>\n      <td>0.003988</td>\n      <td>0.004779</td>\n      <td>0.005739</td>\n      <td>0.006999</td>\n      <td>0.008476</td>\n      <td>0.010310</td>\n      <td>0.012054</td>\n      <td>0.015066</td>\n      <td>0.019537</td>\n      <td>0.029322</td>\n      <td>0.070550</td>\n      <td>0.099819</td>\n      <td>0.091523</td>\n    </tr>\n    <tr>\n      <th>5</th>\n      <td>0.002820</td>\n      <td>0.003448</td>\n      <td>0.003856</td>\n      <td>0.004109</td>\n      <td>0.005046</td>\n      <td>0.006026</td>\n      <td>0.007403</td>\n      <td>0.008075</td>\n      <td>0.010009</td>\n      <td>0.012394</td>\n      <td>0.014949</td>\n      <td>0.019821</td>\n      <td>0.036462</td>\n      <td>0.077001</td>\n      <td>0.190227</td>\n      <td>0.382598</td>\n    </tr>\n    <tr>\n      <th>6</th>\n      <td>0.002849</td>\n      <td>0.003396</td>\n      <td>0.003981</td>\n      <td>0.004312</td>\n      <td>0.005014</td>\n      <td>0.005933</td>\n      <td>0.007255</td>\n      <td>0.008413</td>\n      <td>0.010251</td>\n      <td>0.012648</td>\n      <td>0.015160</td>\n      <td>0.021144</td>\n      <td>0.036160</td>\n      <td>0.084869</td>\n      <td>0.187113</td>\n      <td>0.428257</td>\n    </tr>\n    <tr>\n      <th>7</th>\n      <td>0.002617</td>\n      <td>0.003206</td>\n      <td>0.003554</td>\n      <td>0.004145</td>\n      <td>0.004955</td>\n      <td>0.005974</td>\n      <td>0.007194</td>\n      <td>0.008668</td>\n      <td>0.010072</td>\n      <td>0.011819</td>\n      <td>0.015216</td>\n      <td>0.020521</td>\n      <td>0.030363</td>\n      <td>0.068978</td>\n      <td>0.131806</td>\n      <td>0.098388</td>\n    </tr>\n    <tr>\n      <th>8</th>\n      <td>0.002218</td>\n      <td>0.003132</td>\n      <td>0.003530</td>\n      <td>0.004042</td>\n      <td>0.004772</td>\n      <td>0.005721</td>\n      <td>0.007000</td>\n      <td>0.008439</td>\n      <td>0.009827</td>\n      <td>0.011759</td>\n      <td>0.015066</td>\n      <td>0.019864</td>\n      <td>0.025601</td>\n      <td>0.038418</td>\n      <td>0.050468</td>\n      <td>0.029122</td>\n    </tr>\n    <tr>\n      <th>9</th>\n      <td>0.002071</td>\n      <td>0.002810</td>\n      <td>0.003280</td>\n      <td>0.003844</td>\n      <td>0.004418</td>\n      <td>0.005403</td>\n      <td>0.006612</td>\n      <td>0.008145</td>\n      <td>0.009449</td>\n      <td>0.011309</td>\n      <td>0.014427</td>\n      <td>0.018670</td>\n      <td>0.022498</td>\n      <td>0.026263</td>\n      <td>0.028164</td>\n      <td>0.026838</td>\n    </tr>\n    <tr>\n      <th>10</th>\n      <td>0.001530</td>\n      <td>0.002191</td>\n      <td>0.002824</td>\n      <td>0.003387</td>\n      <td>0.004180</td>\n      <td>0.004915</td>\n      <td>0.006056</td>\n      <td>0.007473</td>\n      <td>0.008771</td>\n      <td>0.010548</td>\n      <td>0.013224</td>\n      <td>0.016773</td>\n      <td>0.020370</td>\n      <td>0.022982</td>\n      <td>0.020692</td>\n      <td>0.025522</td>\n    </tr>\n    <tr>\n      <th>11</th>\n      <td>0.001029</td>\n      <td>0.001708</td>\n      <td>0.002113</td>\n      <td>0.002898</td>\n      <td>0.003562</td>\n      <td>0.004259</td>\n      <td>0.005323</td>\n      <td>0.006588</td>\n      <td>0.007905</td>\n      <td>0.009656</td>\n      <td>0.012247</td>\n      <td>0.015053</td>\n      <td>0.017643</td>\n      <td>0.019895</td>\n      <td>0.018745</td>\n      <td>0.023181</td>\n    </tr>\n  </tbody>\n</table>\n</div>"
     },
     "metadata": {},
     "execution_count": 19
    }
   ],
   "source": [
    "table1 = so.get_solution_table(xT1)\n",
    "table1.index = pd.MultiIndex.from_tuples(table1.index)\n",
    "table1.unstack().transpose()"
   ]
  },
  {
   "cell_type": "code",
   "execution_count": 20,
   "metadata": {},
   "outputs": [
    {
     "output_type": "execute_result",
     "data": {
      "text/plain": [
       "             0         1         2         3         4         5         6   \\\n",
       "xT 0   0.001054  0.001668  0.002189  0.002817  0.003443  0.004101  0.005111   \n",
       "   1   0.001548  0.002151  0.002764  0.003293  0.004047  0.004732  0.005818   \n",
       "   2   0.002040  0.002759  0.003220  0.003603  0.004287  0.005048  0.006319   \n",
       "   3   0.002368  0.003110  0.003582  0.003816  0.004652  0.005559  0.006524   \n",
       "   4   0.002664  0.003285  0.003982  0.004085  0.004863  0.005834  0.007007   \n",
       "   5   0.002863  0.003459  0.003960  0.004279  0.004991  0.005934  0.007253   \n",
       "   6   0.002863  0.003459  0.003960  0.004279  0.004991  0.005934  0.007253   \n",
       "   7   0.002664  0.003285  0.003982  0.004085  0.004863  0.005834  0.007007   \n",
       "   8   0.002368  0.003110  0.003582  0.003816  0.004652  0.005559  0.006524   \n",
       "   9   0.002040  0.002759  0.003220  0.003603  0.004287  0.005048  0.006319   \n",
       "   10  0.001548  0.002151  0.002764  0.003293  0.004047  0.004732  0.005818   \n",
       "   11  0.001054  0.001668  0.002189  0.002817  0.003443  0.004101  0.005111   \n",
       "\n",
       "             7         8         9         10        11        12        13  \\\n",
       "xT 0   0.006150  0.007569  0.009087  0.011584  0.014838  0.017763  0.018362   \n",
       "   1   0.007139  0.008457  0.010268  0.012884  0.016533  0.020589  0.023646   \n",
       "   2   0.007442  0.009017  0.011014  0.013905  0.017988  0.023043  0.028983   \n",
       "   3   0.008193  0.009481  0.011560  0.014928  0.019837  0.025694  0.038413   \n",
       "   4   0.008446  0.009870  0.011959  0.015099  0.020428  0.029827  0.071210   \n",
       "   5   0.007927  0.009873  0.012579  0.015014  0.019775  0.036313  0.084849   \n",
       "   6   0.007927  0.009873  0.012579  0.015014  0.019775  0.036313  0.084849   \n",
       "   7   0.008446  0.009870  0.011959  0.015099  0.020428  0.029827  0.071210   \n",
       "   8   0.008193  0.009481  0.011560  0.014928  0.019837  0.025694  0.038413   \n",
       "   9   0.007442  0.009017  0.011014  0.013905  0.017988  0.023043  0.028983   \n",
       "   10  0.007139  0.008457  0.010268  0.012884  0.016533  0.020589  0.023646   \n",
       "   11  0.006150  0.007569  0.009087  0.011584  0.014838  0.017763  0.018362   \n",
       "\n",
       "             14        15  \n",
       "xT 0   0.018912  0.023150  \n",
       "   1   0.023089  0.025734  \n",
       "   2   0.033991  0.030494  \n",
       "   3   0.049987  0.039402  \n",
       "   4   0.100121  0.096434  \n",
       "   5   0.190592  0.394944  \n",
       "   6   0.190592  0.394944  \n",
       "   7   0.100121  0.096434  \n",
       "   8   0.049987  0.039402  \n",
       "   9   0.033991  0.030494  \n",
       "   10  0.023089  0.025734  \n",
       "   11  0.018912  0.023150  "
      ],
      "text/html": "<div>\n<style scoped>\n    .dataframe tbody tr th:only-of-type {\n        vertical-align: middle;\n    }\n\n    .dataframe tbody tr th {\n        vertical-align: top;\n    }\n\n    .dataframe thead th {\n        text-align: right;\n    }\n</style>\n<table border=\"1\" class=\"dataframe\">\n  <thead>\n    <tr style=\"text-align: right;\">\n      <th></th>\n      <th></th>\n      <th>0</th>\n      <th>1</th>\n      <th>2</th>\n      <th>3</th>\n      <th>4</th>\n      <th>5</th>\n      <th>6</th>\n      <th>7</th>\n      <th>8</th>\n      <th>9</th>\n      <th>10</th>\n      <th>11</th>\n      <th>12</th>\n      <th>13</th>\n      <th>14</th>\n      <th>15</th>\n    </tr>\n  </thead>\n  <tbody>\n    <tr>\n      <th rowspan=\"12\" valign=\"top\">xT</th>\n      <th>0</th>\n      <td>0.001054</td>\n      <td>0.001668</td>\n      <td>0.002189</td>\n      <td>0.002817</td>\n      <td>0.003443</td>\n      <td>0.004101</td>\n      <td>0.005111</td>\n      <td>0.006150</td>\n      <td>0.007569</td>\n      <td>0.009087</td>\n      <td>0.011584</td>\n      <td>0.014838</td>\n      <td>0.017763</td>\n      <td>0.018362</td>\n      <td>0.018912</td>\n      <td>0.023150</td>\n    </tr>\n    <tr>\n      <th>1</th>\n      <td>0.001548</td>\n      <td>0.002151</td>\n      <td>0.002764</td>\n      <td>0.003293</td>\n      <td>0.004047</td>\n      <td>0.004732</td>\n      <td>0.005818</td>\n      <td>0.007139</td>\n      <td>0.008457</td>\n      <td>0.010268</td>\n      <td>0.012884</td>\n      <td>0.016533</td>\n      <td>0.020589</td>\n      <td>0.023646</td>\n      <td>0.023089</td>\n      <td>0.025734</td>\n    </tr>\n    <tr>\n      <th>2</th>\n      <td>0.002040</td>\n      <td>0.002759</td>\n      <td>0.003220</td>\n      <td>0.003603</td>\n      <td>0.004287</td>\n      <td>0.005048</td>\n      <td>0.006319</td>\n      <td>0.007442</td>\n      <td>0.009017</td>\n      <td>0.011014</td>\n      <td>0.013905</td>\n      <td>0.017988</td>\n      <td>0.023043</td>\n      <td>0.028983</td>\n      <td>0.033991</td>\n      <td>0.030494</td>\n    </tr>\n    <tr>\n      <th>3</th>\n      <td>0.002368</td>\n      <td>0.003110</td>\n      <td>0.003582</td>\n      <td>0.003816</td>\n      <td>0.004652</td>\n      <td>0.005559</td>\n      <td>0.006524</td>\n      <td>0.008193</td>\n      <td>0.009481</td>\n      <td>0.011560</td>\n      <td>0.014928</td>\n      <td>0.019837</td>\n      <td>0.025694</td>\n      <td>0.038413</td>\n      <td>0.049987</td>\n      <td>0.039402</td>\n    </tr>\n    <tr>\n      <th>4</th>\n      <td>0.002664</td>\n      <td>0.003285</td>\n      <td>0.003982</td>\n      <td>0.004085</td>\n      <td>0.004863</td>\n      <td>0.005834</td>\n      <td>0.007007</td>\n      <td>0.008446</td>\n      <td>0.009870</td>\n      <td>0.011959</td>\n      <td>0.015099</td>\n      <td>0.020428</td>\n      <td>0.029827</td>\n      <td>0.071210</td>\n      <td>0.100121</td>\n      <td>0.096434</td>\n    </tr>\n    <tr>\n      <th>5</th>\n      <td>0.002863</td>\n      <td>0.003459</td>\n      <td>0.003960</td>\n      <td>0.004279</td>\n      <td>0.004991</td>\n      <td>0.005934</td>\n      <td>0.007253</td>\n      <td>0.007927</td>\n      <td>0.009873</td>\n      <td>0.012579</td>\n      <td>0.015014</td>\n      <td>0.019775</td>\n      <td>0.036313</td>\n      <td>0.084849</td>\n      <td>0.190592</td>\n      <td>0.394944</td>\n    </tr>\n    <tr>\n      <th>6</th>\n      <td>0.002863</td>\n      <td>0.003459</td>\n      <td>0.003960</td>\n      <td>0.004279</td>\n      <td>0.004991</td>\n      <td>0.005934</td>\n      <td>0.007253</td>\n      <td>0.007927</td>\n      <td>0.009873</td>\n      <td>0.012579</td>\n      <td>0.015014</td>\n      <td>0.019775</td>\n      <td>0.036313</td>\n      <td>0.084849</td>\n      <td>0.190592</td>\n      <td>0.394944</td>\n    </tr>\n    <tr>\n      <th>7</th>\n      <td>0.002664</td>\n      <td>0.003285</td>\n      <td>0.003982</td>\n      <td>0.004085</td>\n      <td>0.004863</td>\n      <td>0.005834</td>\n      <td>0.007007</td>\n      <td>0.008446</td>\n      <td>0.009870</td>\n      <td>0.011959</td>\n      <td>0.015099</td>\n      <td>0.020428</td>\n      <td>0.029827</td>\n      <td>0.071210</td>\n      <td>0.100121</td>\n      <td>0.096434</td>\n    </tr>\n    <tr>\n      <th>8</th>\n      <td>0.002368</td>\n      <td>0.003110</td>\n      <td>0.003582</td>\n      <td>0.003816</td>\n      <td>0.004652</td>\n      <td>0.005559</td>\n      <td>0.006524</td>\n      <td>0.008193</td>\n      <td>0.009481</td>\n      <td>0.011560</td>\n      <td>0.014928</td>\n      <td>0.019837</td>\n      <td>0.025694</td>\n      <td>0.038413</td>\n      <td>0.049987</td>\n      <td>0.039402</td>\n    </tr>\n    <tr>\n      <th>9</th>\n      <td>0.002040</td>\n      <td>0.002759</td>\n      <td>0.003220</td>\n      <td>0.003603</td>\n      <td>0.004287</td>\n      <td>0.005048</td>\n      <td>0.006319</td>\n      <td>0.007442</td>\n      <td>0.009017</td>\n      <td>0.011014</td>\n      <td>0.013905</td>\n      <td>0.017988</td>\n      <td>0.023043</td>\n      <td>0.028983</td>\n      <td>0.033991</td>\n      <td>0.030494</td>\n    </tr>\n    <tr>\n      <th>10</th>\n      <td>0.001548</td>\n      <td>0.002151</td>\n      <td>0.002764</td>\n      <td>0.003293</td>\n      <td>0.004047</td>\n      <td>0.004732</td>\n      <td>0.005818</td>\n      <td>0.007139</td>\n      <td>0.008457</td>\n      <td>0.010268</td>\n      <td>0.012884</td>\n      <td>0.016533</td>\n      <td>0.020589</td>\n      <td>0.023646</td>\n      <td>0.023089</td>\n      <td>0.025734</td>\n    </tr>\n    <tr>\n      <th>11</th>\n      <td>0.001054</td>\n      <td>0.001668</td>\n      <td>0.002189</td>\n      <td>0.002817</td>\n      <td>0.003443</td>\n      <td>0.004101</td>\n      <td>0.005111</td>\n      <td>0.006150</td>\n      <td>0.007569</td>\n      <td>0.009087</td>\n      <td>0.011584</td>\n      <td>0.014838</td>\n      <td>0.017763</td>\n      <td>0.018362</td>\n      <td>0.018912</td>\n      <td>0.023150</td>\n    </tr>\n  </tbody>\n</table>\n</div>"
     },
     "metadata": {},
     "execution_count": 20
    }
   ],
   "source": [
    "table2 = so.get_solution_table(xT2)\n",
    "table2.index = pd.MultiIndex.from_tuples(table2.index)\n",
    "table2.unstack().transpose()"
   ]
  },
  {
   "cell_type": "code",
   "execution_count": 21,
   "metadata": {},
   "outputs": [
    {
     "output_type": "execute_result",
     "data": {
      "text/plain": [
       "             0         1         2         3         4         5         6   \\\n",
       "xT 0   0.000969  0.001537  0.002016  0.002592  0.003166  0.003771  0.004618   \n",
       "   1   0.001424  0.001979  0.002543  0.003027  0.003723  0.004353  0.005365   \n",
       "   2   0.001876  0.002537  0.002963  0.003312  0.003944  0.004647  0.005830   \n",
       "   3   0.002176  0.002863  0.003292  0.003510  0.004279  0.005118  0.006014   \n",
       "   4   0.002453  0.003020  0.003640  0.003755  0.004477  0.005382  0.006365   \n",
       "   5   0.002633  0.003183  0.003640  0.003862  0.004601  0.005479  0.006723   \n",
       "   6   0.002633  0.003183  0.003640  0.003862  0.004601  0.005479  0.006723   \n",
       "   7   0.002453  0.003020  0.003640  0.003755  0.004477  0.005382  0.006365   \n",
       "   8   0.002176  0.002863  0.003292  0.003510  0.004279  0.005118  0.006014   \n",
       "   9   0.001876  0.002537  0.002963  0.003312  0.003944  0.004647  0.005830   \n",
       "   10  0.001424  0.001979  0.002543  0.003027  0.003723  0.004353  0.005365   \n",
       "   11  0.000969  0.001537  0.002016  0.002592  0.003166  0.003771  0.004618   \n",
       "\n",
       "             7         8         9         10        11        12        13  \\\n",
       "xT 0   0.005670  0.006990  0.008406  0.010730  0.013798  0.016384  0.017240   \n",
       "   1   0.006588  0.007812  0.009490  0.011922  0.015328  0.019140  0.022192   \n",
       "   2   0.006876  0.008330  0.010189  0.012843  0.016666  0.021415  0.024795   \n",
       "   3   0.007564  0.008757  0.010565  0.013764  0.018235  0.023565  0.033800   \n",
       "   4   0.007625  0.009137  0.011028  0.013841  0.018264  0.027896  0.065061   \n",
       "   5   0.007625  0.009339  0.011626  0.013841  0.018264  0.034470  0.075474   \n",
       "   6   0.007625  0.009339  0.011626  0.013841  0.018264  0.034470  0.075474   \n",
       "   7   0.007625  0.009137  0.011028  0.013841  0.018264  0.027896  0.065061   \n",
       "   8   0.007564  0.008757  0.010565  0.013764  0.018235  0.023565  0.033800   \n",
       "   9   0.006876  0.008330  0.010189  0.012843  0.016666  0.021415  0.024795   \n",
       "   10  0.006588  0.007812  0.009490  0.011922  0.015328  0.019140  0.022192   \n",
       "   11  0.005670  0.006990  0.008406  0.010730  0.013798  0.016384  0.017240   \n",
       "\n",
       "             14        15  \n",
       "xT 0   0.017945  0.022745  \n",
       "   1   0.022192  0.025313  \n",
       "   2   0.030232  0.030232  \n",
       "   3   0.040207  0.040207  \n",
       "   4   0.098406  0.098406  \n",
       "   5   0.185911  0.429171  \n",
       "   6   0.185911  0.429171  \n",
       "   7   0.098406  0.098406  \n",
       "   8   0.040207  0.040207  \n",
       "   9   0.030232  0.030232  \n",
       "   10  0.022192  0.025313  \n",
       "   11  0.017945  0.022745  "
      ],
      "text/html": "<div>\n<style scoped>\n    .dataframe tbody tr th:only-of-type {\n        vertical-align: middle;\n    }\n\n    .dataframe tbody tr th {\n        vertical-align: top;\n    }\n\n    .dataframe thead th {\n        text-align: right;\n    }\n</style>\n<table border=\"1\" class=\"dataframe\">\n  <thead>\n    <tr style=\"text-align: right;\">\n      <th></th>\n      <th></th>\n      <th>0</th>\n      <th>1</th>\n      <th>2</th>\n      <th>3</th>\n      <th>4</th>\n      <th>5</th>\n      <th>6</th>\n      <th>7</th>\n      <th>8</th>\n      <th>9</th>\n      <th>10</th>\n      <th>11</th>\n      <th>12</th>\n      <th>13</th>\n      <th>14</th>\n      <th>15</th>\n    </tr>\n  </thead>\n  <tbody>\n    <tr>\n      <th rowspan=\"12\" valign=\"top\">xT</th>\n      <th>0</th>\n      <td>0.000969</td>\n      <td>0.001537</td>\n      <td>0.002016</td>\n      <td>0.002592</td>\n      <td>0.003166</td>\n      <td>0.003771</td>\n      <td>0.004618</td>\n      <td>0.005670</td>\n      <td>0.006990</td>\n      <td>0.008406</td>\n      <td>0.010730</td>\n      <td>0.013798</td>\n      <td>0.016384</td>\n      <td>0.017240</td>\n      <td>0.017945</td>\n      <td>0.022745</td>\n    </tr>\n    <tr>\n      <th>1</th>\n      <td>0.001424</td>\n      <td>0.001979</td>\n      <td>0.002543</td>\n      <td>0.003027</td>\n      <td>0.003723</td>\n      <td>0.004353</td>\n      <td>0.005365</td>\n      <td>0.006588</td>\n      <td>0.007812</td>\n      <td>0.009490</td>\n      <td>0.011922</td>\n      <td>0.015328</td>\n      <td>0.019140</td>\n      <td>0.022192</td>\n      <td>0.022192</td>\n      <td>0.025313</td>\n    </tr>\n    <tr>\n      <th>2</th>\n      <td>0.001876</td>\n      <td>0.002537</td>\n      <td>0.002963</td>\n      <td>0.003312</td>\n      <td>0.003944</td>\n      <td>0.004647</td>\n      <td>0.005830</td>\n      <td>0.006876</td>\n      <td>0.008330</td>\n      <td>0.010189</td>\n      <td>0.012843</td>\n      <td>0.016666</td>\n      <td>0.021415</td>\n      <td>0.024795</td>\n      <td>0.030232</td>\n      <td>0.030232</td>\n    </tr>\n    <tr>\n      <th>3</th>\n      <td>0.002176</td>\n      <td>0.002863</td>\n      <td>0.003292</td>\n      <td>0.003510</td>\n      <td>0.004279</td>\n      <td>0.005118</td>\n      <td>0.006014</td>\n      <td>0.007564</td>\n      <td>0.008757</td>\n      <td>0.010565</td>\n      <td>0.013764</td>\n      <td>0.018235</td>\n      <td>0.023565</td>\n      <td>0.033800</td>\n      <td>0.040207</td>\n      <td>0.040207</td>\n    </tr>\n    <tr>\n      <th>4</th>\n      <td>0.002453</td>\n      <td>0.003020</td>\n      <td>0.003640</td>\n      <td>0.003755</td>\n      <td>0.004477</td>\n      <td>0.005382</td>\n      <td>0.006365</td>\n      <td>0.007625</td>\n      <td>0.009137</td>\n      <td>0.011028</td>\n      <td>0.013841</td>\n      <td>0.018264</td>\n      <td>0.027896</td>\n      <td>0.065061</td>\n      <td>0.098406</td>\n      <td>0.098406</td>\n    </tr>\n    <tr>\n      <th>5</th>\n      <td>0.002633</td>\n      <td>0.003183</td>\n      <td>0.003640</td>\n      <td>0.003862</td>\n      <td>0.004601</td>\n      <td>0.005479</td>\n      <td>0.006723</td>\n      <td>0.007625</td>\n      <td>0.009339</td>\n      <td>0.011626</td>\n      <td>0.013841</td>\n      <td>0.018264</td>\n      <td>0.034470</td>\n      <td>0.075474</td>\n      <td>0.185911</td>\n      <td>0.429171</td>\n    </tr>\n    <tr>\n      <th>6</th>\n      <td>0.002633</td>\n      <td>0.003183</td>\n      <td>0.003640</td>\n      <td>0.003862</td>\n      <td>0.004601</td>\n      <td>0.005479</td>\n      <td>0.006723</td>\n      <td>0.007625</td>\n      <td>0.009339</td>\n      <td>0.011626</td>\n      <td>0.013841</td>\n      <td>0.018264</td>\n      <td>0.034470</td>\n      <td>0.075474</td>\n      <td>0.185911</td>\n      <td>0.429171</td>\n    </tr>\n    <tr>\n      <th>7</th>\n      <td>0.002453</td>\n      <td>0.003020</td>\n      <td>0.003640</td>\n      <td>0.003755</td>\n      <td>0.004477</td>\n      <td>0.005382</td>\n      <td>0.006365</td>\n      <td>0.007625</td>\n      <td>0.009137</td>\n      <td>0.011028</td>\n      <td>0.013841</td>\n      <td>0.018264</td>\n      <td>0.027896</td>\n      <td>0.065061</td>\n      <td>0.098406</td>\n      <td>0.098406</td>\n    </tr>\n    <tr>\n      <th>8</th>\n      <td>0.002176</td>\n      <td>0.002863</td>\n      <td>0.003292</td>\n      <td>0.003510</td>\n      <td>0.004279</td>\n      <td>0.005118</td>\n      <td>0.006014</td>\n      <td>0.007564</td>\n      <td>0.008757</td>\n      <td>0.010565</td>\n      <td>0.013764</td>\n      <td>0.018235</td>\n      <td>0.023565</td>\n      <td>0.033800</td>\n      <td>0.040207</td>\n      <td>0.040207</td>\n    </tr>\n    <tr>\n      <th>9</th>\n      <td>0.001876</td>\n      <td>0.002537</td>\n      <td>0.002963</td>\n      <td>0.003312</td>\n      <td>0.003944</td>\n      <td>0.004647</td>\n      <td>0.005830</td>\n      <td>0.006876</td>\n      <td>0.008330</td>\n      <td>0.010189</td>\n      <td>0.012843</td>\n      <td>0.016666</td>\n      <td>0.021415</td>\n      <td>0.024795</td>\n      <td>0.030232</td>\n      <td>0.030232</td>\n    </tr>\n    <tr>\n      <th>10</th>\n      <td>0.001424</td>\n      <td>0.001979</td>\n      <td>0.002543</td>\n      <td>0.003027</td>\n      <td>0.003723</td>\n      <td>0.004353</td>\n      <td>0.005365</td>\n      <td>0.006588</td>\n      <td>0.007812</td>\n      <td>0.009490</td>\n      <td>0.011922</td>\n      <td>0.015328</td>\n      <td>0.019140</td>\n      <td>0.022192</td>\n      <td>0.022192</td>\n      <td>0.025313</td>\n    </tr>\n    <tr>\n      <th>11</th>\n      <td>0.000969</td>\n      <td>0.001537</td>\n      <td>0.002016</td>\n      <td>0.002592</td>\n      <td>0.003166</td>\n      <td>0.003771</td>\n      <td>0.004618</td>\n      <td>0.005670</td>\n      <td>0.006990</td>\n      <td>0.008406</td>\n      <td>0.010730</td>\n      <td>0.013798</td>\n      <td>0.016384</td>\n      <td>0.017240</td>\n      <td>0.017945</td>\n      <td>0.022745</td>\n    </tr>\n  </tbody>\n</table>\n</div>"
     },
     "metadata": {},
     "execution_count": 21
    }
   ],
   "source": [
    "table3 = so.get_solution_table(xT3)\n",
    "table3.index = pd.MultiIndex.from_tuples(table3.index)\n",
    "table3.unstack().transpose()"
   ]
  },
  {
   "cell_type": "code",
   "execution_count": 22,
   "metadata": {
    "tags": []
   },
   "outputs": [
    {
     "output_type": "stream",
     "name": "stdout",
     "text": [
      "NOTE: Initialized model optimal_flow.\n",
      "Welcome to the CBC MILP Solver \n",
      "Version: devel \n",
      "Build Date: Nov 25 2020 \n",
      "\n",
      "command line - cbc export.mps presolve off solve solu solution.txt (default strategy 1)\n",
      "At line 1 NAME     optimal_flow\n",
      "At line 2 ROWS\n",
      "At line 583 COLUMNS\n",
      "At line 75307 RHS\n",
      "At line 75310 RANGES\n",
      "At line 75311 BOUNDS\n",
      "At line 113140 ENDATA\n",
      "Problem optimal_flow has 579 rows, 37828 columns and 111553 elements\n",
      "Coin0008I optimal_flow read with 0 errors\n",
      "Option for presolve changed from on to off\n",
      "Continuous objective value is -0.436492 - 0.07 seconds\n",
      "Cgl0002I 192 variables fixed\n",
      "Cgl0004I processed model has 385 rows, 37055 columns (37055 integer (37055 of which binary)) and 110591 elements\n",
      "Coin3009W Conflict graph built in 0.306 seconds, density: 0.132%\n",
      "Cgl0015I Clique Strengthening extended 0 cliques, 0 were dominated\n",
      "Cbc0038I Initial state - 6 integers unsatisfied sum - 3\n",
      "Cbc0038I Pass   1: suminf.    0.00000 (0) obj. -0.431708 iterations 816\n",
      "Cbc0038I Solution found of -0.431708\n",
      "Cbc0038I Before mini branch and bound, 37046 integers at bound fixed and 0 continuous\n",
      "Cbc0038I Full problem 385 rows 37055 columns, reduced to 0 rows 0 columns\n",
      "Cbc0038I Mini branch and bound did not improve solution (3.69 seconds)\n",
      "Cbc0038I Round again with cutoff of -0.432276\n",
      "Cbc0038I Reduced cost fixing fixed 1786 variables on major pass 2\n",
      "Cbc0038I Pass   2: suminf.    1.05005 (15) obj. -0.432276 iterations 250\n",
      "Cbc0038I Pass   3: suminf.    0.71286 (9) obj. -0.432276 iterations 1110\n",
      "Cbc0038I Pass   4: suminf.    3.00000 (6) obj. -0.436492 iterations 7697\n",
      "Cbc0038I Pass   5: suminf.    3.00000 (6) obj. -0.436492 iterations 1438\n",
      "Cbc0038I Pass   6: suminf.    3.00000 (6) obj. -0.436492 iterations 258\n",
      "Cbc0038I Pass   7: suminf.    2.00000 (23) obj. -0.432276 iterations 1516\n",
      "Cbc0038I Pass   8: suminf.    2.00000 (23) obj. -0.432276 iterations 2\n",
      "Cbc0038I Pass   9: suminf.    2.00000 (15) obj. -0.432276 iterations 1727\n",
      "Cbc0038I Pass  10: suminf.    2.27038 (19) obj. -0.432276 iterations 1013\n",
      "Cbc0038I Pass  11: suminf.    2.00000 (14) obj. -0.432276 iterations 1710\n",
      "Cbc0038I Pass  12: suminf.    2.00000 (16) obj. -0.432276 iterations 1030\n",
      "Cbc0038I Pass  13: suminf.    2.00000 (13) obj. -0.432276 iterations 1506\n",
      "Cbc0038I Pass  14: suminf.    2.00001 (9) obj. -0.432276 iterations 1969\n",
      "Cbc0038I Pass  15: suminf.    2.00000 (9) obj. -0.432276 iterations 1158\n",
      "Cbc0038I Pass  16: suminf.    2.00000 (9) obj. -0.432276 iterations 901\n",
      "Cbc0038I Pass  17: suminf.    2.00000 (17) obj. -0.432276 iterations 1033\n",
      "Cbc0038I Pass  18: suminf.    2.84672 (12) obj. -0.432276 iterations 1141\n",
      "Cbc0038I Pass  19: suminf.    0.85396 (12) obj. -0.432276 iterations 1545\n",
      "Cbc0038I Pass  20: suminf.    0.79476 (9) obj. -0.432276 iterations 1726\n",
      "Cbc0038I Pass  21: suminf.    3.00000 (6) obj. -0.435041 iterations 6757\n",
      "Cbc0038I Pass  22: suminf.    0.94809 (13) obj. -0.432276 iterations 1168\n",
      "Cbc0038I Pass  23: suminf.    0.78390 (9) obj. -0.432276 iterations 889\n",
      "Cbc0038I Pass  24: suminf.    3.00000 (6) obj. -0.435041 iterations 4764\n",
      "Cbc0038I Pass  25: suminf.    3.00000 (6) obj. -0.435041 iterations 2221\n",
      "Cbc0038I Pass  26: suminf.    3.00000 (6) obj. -0.435041 iterations 3929\n",
      "Cbc0038I No solution found this major pass\n",
      "Cbc0038I After 11.28 seconds - Feasibility pump exiting with objective of -0.431708 - took 8.95 seconds\n",
      "Cbc0012I Integer solution of -0.43170786 found by feasibility pump after 0 iterations and 0 nodes (11.28 seconds)\n",
      "Cbc0031I 13 added rows had average density of 610.69231\n",
      "Cbc0013I At root node, 13 cuts changed objective from -0.43649237 to -0.43280046 in 11 passes\n",
      "Cbc0014I Cut generator 0 (Probing) - 0 row cuts average 0.0 elements, 24826 column cuts (24826 active)  in 0.458 seconds - new frequency is 1\n",
      "Cbc0014I Cut generator 1 (Gomory) - 2 row cuts average 646.0 elements, 0 column cuts (0 active)  in 0.018 seconds - new frequency is -100\n",
      "Cbc0014I Cut generator 2 (Knapsack) - 0 row cuts average 0.0 elements, 0 column cuts (0 active)  in 0.061 seconds - new frequency is -100\n",
      "Cbc0014I Cut generator 3 (Clique) - 0 row cuts average 0.0 elements, 0 column cuts (0 active)  in 0.005 seconds - new frequency is -100\n",
      "Cbc0014I Cut generator 4 (OddWheel) - 0 row cuts average 0.0 elements, 0 column cuts (0 active)  in 0.013 seconds - new frequency is -100\n",
      "Cbc0014I Cut generator 5 (MixedIntegerRounding2) - 0 row cuts average 0.0 elements, 0 column cuts (0 active)  in 0.027 seconds - new frequency is -100\n",
      "Cbc0014I Cut generator 6 (FlowCover) - 0 row cuts average 0.0 elements, 0 column cuts (0 active)  in 0.008 seconds - new frequency is -100\n",
      "Cbc0014I Cut generator 8 (ZeroHalf) - 14 row cuts average 626.6 elements, 0 column cuts (0 active)  in 0.041 seconds - new frequency is -100\n",
      "Cbc0016I Integer solution of -0.43184027 found by strong branching after 1292 iterations and 2 nodes (13.94 seconds)\n",
      "Cbc0012I Integer solution of -0.43218286 found by DiveCoefficient after 1323 iterations and 2 nodes (14.00 seconds)\n",
      "Cbc0012I Integer solution of -0.4322729 found by DiveCoefficient after 1335 iterations and 3 nodes (14.05 seconds)\n",
      "Cbc0016I Integer solution of -0.43241637 found by strong branching after 1335 iterations and 3 nodes (14.06 seconds)\n",
      "Cbc0001I Search completed - best objective -0.4324163733, took 1570 iterations and 6 nodes (14.08 seconds)\n",
      "Cbc0032I Strong branching done 32 times (1734 iterations), fathomed 1 nodes and fixed 1 variables\n",
      "Cbc0035I Maximum depth 2, 2563 variables fixed on reduced cost\n",
      "Cuts at root node changed objective from -0.436492 to -0.432631\n",
      "Probing was tried 14 times and created 24828 cuts of which 0 were active after adding rounds of cuts (0.466 seconds)\n",
      "Gomory was tried 11 times and created 2 cuts of which 0 were active after adding rounds of cuts (0.018 seconds)\n",
      "Knapsack was tried 11 times and created 0 cuts of which 0 were active after adding rounds of cuts (0.061 seconds)\n",
      "Clique was tried 11 times and created 0 cuts of which 0 were active after adding rounds of cuts (0.005 seconds)\n",
      "OddWheel was tried 11 times and created 0 cuts of which 0 were active after adding rounds of cuts (0.013 seconds)\n",
      "MixedIntegerRounding2 was tried 11 times and created 0 cuts of which 0 were active after adding rounds of cuts (0.027 seconds)\n",
      "FlowCover was tried 11 times and created 0 cuts of which 0 were active after adding rounds of cuts (0.008 seconds)\n",
      "TwoMirCuts was tried 1 times and created 0 cuts of which 0 were active after adding rounds of cuts (0.003 seconds)\n",
      "ZeroHalf was tried 11 times and created 14 cuts of which 0 were active after adding rounds of cuts (0.041 seconds)\n",
      "\n",
      "Result - Optimal solution found\n",
      "\n",
      "Objective value:                -0.43241637\n",
      "Enumerated nodes:               6\n",
      "Total iterations:               1570\n",
      "Time (CPU seconds):             14.15\n",
      "Time (Wallclock seconds):       14.15\n",
      "\n",
      "Total time (CPU seconds):       14.24   (Wallclock seconds):       14.24\n",
      "\n"
     ]
    }
   ],
   "source": [
    "# Future Idea\n",
    "def optimal_xT(xT_vals):\n",
    "    model = so.Model('optimal_flow')\n",
    "    indices = [(x,y) for x in range(w) for y in range(l)]\n",
    "    nodes = ['source'] + indices + ['sink']\n",
    "    \n",
    "    use = model.add_variables(indices, name='use', vartype=so.binary)\n",
    "    flow = model.add_variables(nodes, nodes, name='flow', vartype=so.binary)\n",
    "\n",
    "    model.add_constraint(flow['source',7,5] == 1, name='initial_node')\n",
    "    inflow = {(x,y): so.expr_sum(flow[i,j,x,y] for (i,j) in indices) + flow['source',x,y] for (x,y) in indices}\n",
    "    outflow = {(x,y): so.expr_sum(flow[x,y,i,j] for (i,j) in indices) + flow[x,y,'sink'] for (x,y) in indices}\n",
    "    model.add_constraints((inflow[x,y] == outflow[x,y] for (x,y) in indices), name='flow_balance')\n",
    "    model.add_constraints((use[x,y] == inflow[x,y] for (x,y) in indices), name='use_if_flow')\n",
    "    model.add_constraint(so.expr_sum(flow[x,y,'sink'] for (x,y) in indices) == 1, name='take_shot')\n",
    "    model.add_constraint(so.expr_sum(use[x,y] for (x,y) in indices) == 6, name='limit_moves')\n",
    "    model.add_constraints((flow[x,y,x,y] == 0 for (x,y) in indices), name='no_self_move')\n",
    "\n",
    "    ## Replace this with probability matrix!!\n",
    "    pass_ratings = so.expr_sum(T.loc[(x,y),(z,w)] * (xt_vals.iloc[z,w] - xt_vals.iloc[x,y]) * flow[x,y,z,w] for (x,y) in indices for (z,w) in indices)\n",
    "    shot_rating = so.expr_sum(shots.loc[x,y] * scores.loc[x,y] * flow[x,y,'sink'] for (x,y) in indices)\n",
    "    model.set_objective(-1* (shot_rating + pass_ratings), name='total_rating', sense='N')\n",
    "    model.export_mps(filename='export.mps')\n",
    "    command = 'cbc export.mps presolve off solve solu solution.txt'\n",
    "    !{command}\n",
    "\n",
    "xt_vals = table3.unstack()\n",
    "optimal_xT(xt_vals)"
   ]
  }
 ]
}